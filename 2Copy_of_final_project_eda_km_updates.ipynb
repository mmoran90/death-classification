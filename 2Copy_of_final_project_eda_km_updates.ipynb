{
  "cells": [
    {
      "cell_type": "markdown",
      "metadata": {
        "id": "view-in-github",
        "colab_type": "text"
      },
      "source": [
        "<a href=\"https://colab.research.google.com/github/mmoran90/death-classification/blob/main/2Copy_of_final_project_eda_km_updates.ipynb\" target=\"_parent\"><img src=\"https://colab.research.google.com/assets/colab-badge.svg\" alt=\"Open In Colab\"/></a>"
      ]
    },
    {
      "cell_type": "markdown",
      "metadata": {
        "id": "AdYdJSkUQ5C4"
      },
      "source": [
        "Katie Mears - Final Project\n",
        "Reclassifying Undetermined Deaths\n",
        "EDA"
      ]
    },
    {
      "cell_type": "markdown",
      "metadata": {
        "id": "dwgWoFskv37f"
      },
      "source": [
        "### Load Packages"
      ]
    },
    {
      "cell_type": "code",
      "execution_count": 14,
      "metadata": {
        "id": "j1UdUrQT8ZKd"
      },
      "outputs": [],
      "source": [
        "import pandas as pd\n",
        "from sklearn.model_selection import train_test_split\n",
        "import seaborn as sns\n",
        "import matplotlib.pyplot as plt\n",
        "import statsmodels.api as sm"
      ]
    },
    {
      "cell_type": "markdown",
      "metadata": {
        "id": "xucujNf3v37h"
      },
      "source": [
        "### Read Data and Explore Variables"
      ]
    },
    {
      "cell_type": "code",
      "execution_count": 15,
      "metadata": {
        "colab": {
          "base_uri": "https://localhost:8080/"
        },
        "id": "czairqpF9QFY",
        "outputId": "2a6a6e08-de9d-48f4-cb4a-fb0a8d595855"
      },
      "outputs": [
        {
          "output_type": "stream",
          "name": "stderr",
          "text": [
            "<ipython-input-15-706664e4080e>:2: DtypeWarning: Columns (41,42,61,62,63) have mixed types. Specify dtype option on import or set low_memory=False.\n",
            "  death_data = pd.read_csv('2015_data.csv')\n"
          ]
        },
        {
          "output_type": "stream",
          "name": "stdout",
          "text": [
            "   resident_status  education_1989_revision  education_2003_revision  \\\n",
            "0                1                      NaN                      3.0   \n",
            "1                1                      NaN                      6.0   \n",
            "2                1                      NaN                      3.0   \n",
            "3                1                      NaN                      3.0   \n",
            "4                1                      NaN                      5.0   \n",
            "\n",
            "   education_reporting_flag  month_of_death sex  detail_age_type  detail_age  \\\n",
            "0                         1               1   M                1          84   \n",
            "1                         1               1   M                1          70   \n",
            "2                         1               1   F                1          91   \n",
            "3                         1               1   F                1          40   \n",
            "4                         1               1   F                1          89   \n",
            "\n",
            "   age_substitution_flag  age_recode_52  ...  record_condition_18  \\\n",
            "0                    NaN             42  ...                  NaN   \n",
            "1                    NaN             40  ...                  NaN   \n",
            "2                    NaN             44  ...                  NaN   \n",
            "3                    NaN             34  ...                  NaN   \n",
            "4                    NaN             43  ...                  NaN   \n",
            "\n",
            "   record_condition_19  record_condition_20  race bridged_race_flag  \\\n",
            "0                  NaN                  NaN   1.0               NaN   \n",
            "1                  NaN                  NaN   1.0               NaN   \n",
            "2                  NaN                  NaN   1.0               NaN   \n",
            "3                  NaN                  NaN   3.0               NaN   \n",
            "4                  NaN                  NaN   1.0               NaN   \n",
            "\n",
            "   race_imputation_flag  race_recode_3 race_recode_5  hispanic_origin  \\\n",
            "0                   NaN            1.0           1.0            100.0   \n",
            "1                   NaN            1.0           1.0            100.0   \n",
            "2                   NaN            1.0           1.0            100.0   \n",
            "3                   NaN            2.0           3.0            100.0   \n",
            "4                   NaN            1.0           1.0            100.0   \n",
            "\n",
            "  hispanic_originrace_recode  \n",
            "0                        6.0  \n",
            "1                        6.0  \n",
            "2                        6.0  \n",
            "3                        8.0  \n",
            "4                        6.0  \n",
            "\n",
            "[5 rows x 77 columns]\n"
          ]
        }
      ],
      "source": [
        "# Read in the 2015_data\n",
        "death_data = pd.read_csv('2015_data.csv')\n",
        "# Display the first few rows of the data\n",
        "print(death_data.head())"
      ]
    },
    {
      "cell_type": "code",
      "execution_count": 16,
      "metadata": {
        "colab": {
          "base_uri": "https://localhost:8080/"
        },
        "id": "OCf2o9Yh9QOB",
        "outputId": "acac5c60-c5bb-409a-9544-4c87cc65f7be"
      },
      "outputs": [
        {
          "output_type": "stream",
          "name": "stdout",
          "text": [
            "Index(['resident_status', 'education_1989_revision', 'education_2003_revision',\n",
            "       'education_reporting_flag', 'month_of_death', 'sex', 'detail_age_type',\n",
            "       'detail_age', 'age_substitution_flag', 'age_recode_52', 'age_recode_27',\n",
            "       'age_recode_12', 'infant_age_recode_22',\n",
            "       'place_of_death_and_decedents_status', 'marital_status',\n",
            "       'day_of_week_of_death', 'current_data_year', 'injury_at_work',\n",
            "       'manner_of_death', 'method_of_disposition', 'autopsy', 'activity_code',\n",
            "       'place_of_injury_for_causes_w00_y34_except_y06_and_y07_',\n",
            "       'icd_code_10th_revision', '358_cause_recode', '113_cause_recode',\n",
            "       '130_infant_cause_recode', '39_cause_recode',\n",
            "       'number_of_entity_axis_conditions', 'entity_condition_1',\n",
            "       'entity_condition_2', 'entity_condition_3', 'entity_condition_4',\n",
            "       'entity_condition_5', 'entity_condition_6', 'entity_condition_7',\n",
            "       'entity_condition_8', 'entity_condition_9', 'entity_condition_10',\n",
            "       'entity_condition_11', 'entity_condition_12', 'entity_condition_13',\n",
            "       'entity_condition_14', 'entity_condition_15', 'entity_condition_16',\n",
            "       'entity_condition_17', 'entity_condition_18', 'entity_condition_19',\n",
            "       'entity_condition_20', 'number_of_record_axis_conditions',\n",
            "       'record_condition_1', 'record_condition_2', 'record_condition_3',\n",
            "       'record_condition_4', 'record_condition_5', 'record_condition_6',\n",
            "       'record_condition_7', 'record_condition_8', 'record_condition_9',\n",
            "       'record_condition_10', 'record_condition_11', 'record_condition_12',\n",
            "       'record_condition_13', 'record_condition_14', 'record_condition_15',\n",
            "       'record_condition_16', 'record_condition_17', 'record_condition_18',\n",
            "       'record_condition_19', 'record_condition_20', 'race',\n",
            "       'bridged_race_flag', 'race_imputation_flag', 'race_recode_3',\n",
            "       'race_recode_5', 'hispanic_origin', 'hispanic_originrace_recode'],\n",
            "      dtype='object')\n"
          ]
        }
      ],
      "source": [
        "# Print Column Titles in Original Data Set\n",
        "column_titles = death_data.columns\n",
        "print(column_titles)"
      ]
    },
    {
      "cell_type": "code",
      "execution_count": 17,
      "metadata": {
        "colab": {
          "base_uri": "https://localhost:8080/"
        },
        "id": "EXwZ76_h9QRm",
        "outputId": "868a1065-4b30-4d53-f027-04ac91b3a152"
      },
      "outputs": [
        {
          "output_type": "stream",
          "name": "stdout",
          "text": [
            "        resident_status  education_1989_revision  education_2003_revision  \\\n",
            "count      75306.000000             50870.000000             24436.000000   \n",
            "unique              NaN                      NaN                      NaN   \n",
            "top                 NaN                      NaN                      NaN   \n",
            "freq                NaN                      NaN                      NaN   \n",
            "mean           1.233262                12.522607                 3.296120   \n",
            "std            0.484821                 8.844328                 1.661875   \n",
            "min            1.000000                 0.000000                 1.000000   \n",
            "25%            1.000000                11.000000                 2.000000   \n",
            "50%            1.000000                12.000000                 3.000000   \n",
            "75%            1.000000                14.000000                 4.000000   \n",
            "max            4.000000                99.000000                 9.000000   \n",
            "\n",
            "        education_reporting_flag  month_of_death    sex  detail_age_type  \\\n",
            "count               75306.000000    75306.000000  75306     75306.000000   \n",
            "unique                       NaN             NaN      2              NaN   \n",
            "top                          NaN             NaN      M              NaN   \n",
            "freq                         NaN             NaN  38821              NaN   \n",
            "mean                    0.324489        5.832444    NaN         1.023956   \n",
            "std                     0.468187        3.374584    NaN         0.282993   \n",
            "min                     0.000000        1.000000    NaN         1.000000   \n",
            "25%                     0.000000        3.000000    NaN         1.000000   \n",
            "50%                     0.000000        6.000000    NaN         1.000000   \n",
            "75%                     1.000000        8.000000    NaN         1.000000   \n",
            "max                     1.000000       12.000000    NaN         9.000000   \n",
            "\n",
            "          detail_age  age_substitution_flag  age_recode_52  ...  \\\n",
            "count   75306.000000                    0.0   75306.000000  ...   \n",
            "unique           NaN                    NaN            NaN  ...   \n",
            "top              NaN                    NaN            NaN  ...   \n",
            "freq             NaN                    NaN            NaN  ...   \n",
            "mean       71.061018                    NaN      39.635540  ...   \n",
            "std        18.459836                    NaN       4.592955  ...   \n",
            "min         1.000000                    NaN       1.000000  ...   \n",
            "25%        61.000000                    NaN      38.000000  ...   \n",
            "50%        74.000000                    NaN      40.000000  ...   \n",
            "75%        85.000000                    NaN      43.000000  ...   \n",
            "max       999.000000                    NaN      52.000000  ...   \n",
            "\n",
            "        record_condition_18  record_condition_19  record_condition_20  \\\n",
            "count                   0.0                  0.0                  0.0   \n",
            "unique                  NaN                  NaN                  NaN   \n",
            "top                     NaN                  NaN                  NaN   \n",
            "freq                    NaN                  NaN                  NaN   \n",
            "mean                    NaN                  NaN                  NaN   \n",
            "std                     NaN                  NaN                  NaN   \n",
            "min                     NaN                  NaN                  NaN   \n",
            "25%                     NaN                  NaN                  NaN   \n",
            "50%                     NaN                  NaN                  NaN   \n",
            "75%                     NaN                  NaN                  NaN   \n",
            "max                     NaN                  NaN                  NaN   \n",
            "\n",
            "                race bridged_race_flag  race_imputation_flag  race_recode_3  \\\n",
            "count   75305.000000             177.0            435.000000   75305.000000   \n",
            "unique           NaN               NaN                   NaN            NaN   \n",
            "top              NaN               NaN                   NaN            NaN   \n",
            "freq             NaN               NaN                   NaN            NaN   \n",
            "mean        1.356882               1.0              1.935632       1.387185   \n",
            "std         2.788071               0.0              0.245690       0.777108   \n",
            "min         1.000000               1.0              1.000000       1.000000   \n",
            "25%         1.000000               1.0              2.000000       1.000000   \n",
            "50%         1.000000               1.0              2.000000       1.000000   \n",
            "75%         1.000000               1.0              2.000000       1.000000   \n",
            "max        78.000000               1.0              2.000000       3.000000   \n",
            "\n",
            "       race_recode_5  hispanic_origin hispanic_originrace_recode  \n",
            "count   75305.000000     75305.000000               75305.000000  \n",
            "unique           NaN              NaN                        NaN  \n",
            "top              NaN              NaN                        NaN  \n",
            "freq             NaN              NaN                        NaN  \n",
            "mean        1.229228       101.750920                   6.191515  \n",
            "std         0.486772        27.712854                   0.622086  \n",
            "min         1.000000       100.000000                   1.000000  \n",
            "25%         1.000000       100.000000                   6.000000  \n",
            "50%         1.000000       100.000000                   6.000000  \n",
            "75%         1.000000       100.000000                   6.000000  \n",
            "max         4.000000       998.000000                   9.000000  \n",
            "\n",
            "[11 rows x 77 columns]\n"
          ]
        }
      ],
      "source": [
        "# Data Description of Original data set (2015_data.csv)\n",
        "data_description_all = death_data.describe(include='all')\n",
        "print(data_description_all)"
      ]
    },
    {
      "cell_type": "code",
      "execution_count": 18,
      "metadata": {
        "id": "YKXMz3Wtv37j"
      },
      "outputs": [],
      "source": [
        "# Convert manner_of_death to homicide or not homicide\n",
        "death_data['manner_of_death'] = death_data['manner_of_death'].replace([1, 2, 4, 5, 6, 7, None],0)\n",
        "death_data['manner_of_death'] = death_data['manner_of_death'].replace([3],1)"
      ]
    },
    {
      "cell_type": "markdown",
      "metadata": {
        "id": "Lgudal26v37j"
      },
      "source": [
        "### Missing Data"
      ]
    },
    {
      "cell_type": "code",
      "execution_count": 19,
      "metadata": {
        "colab": {
          "base_uri": "https://localhost:8080/"
        },
        "id": "re0RZ86x9QVJ",
        "outputId": "354de8bf-742b-4c2e-d302-8a23a3acd261"
      },
      "outputs": [
        {
          "output_type": "stream",
          "name": "stdout",
          "text": [
            "resident_status                   0\n",
            "education_1989_revision       24436\n",
            "education_2003_revision       50870\n",
            "education_reporting_flag          0\n",
            "month_of_death                    0\n",
            "                              ...  \n",
            "race_imputation_flag          74871\n",
            "race_recode_3                     1\n",
            "race_recode_5                     1\n",
            "hispanic_origin                   1\n",
            "hispanic_originrace_recode        1\n",
            "Length: 77, dtype: int64\n"
          ]
        }
      ],
      "source": [
        "# Print Missing Values per Column\n",
        "missing_values_count = death_data.isnull().sum()\n",
        "print(missing_values_count)"
      ]
    },
    {
      "cell_type": "code",
      "execution_count": 20,
      "metadata": {
        "id": "BrLB4_IL9QXx",
        "colab": {
          "base_uri": "https://localhost:8080/"
        },
        "outputId": "f7f589a1-df6b-4dca-c2d7-6cf18f2ff0af"
      },
      "outputs": [
        {
          "output_type": "stream",
          "name": "stdout",
          "text": [
            "resident_status                0.000000\n",
            "education_1989_revision       32.448942\n",
            "education_2003_revision       67.551058\n",
            "education_reporting_flag       0.000000\n",
            "month_of_death                 0.000000\n",
            "                                ...    \n",
            "race_imputation_flag          99.422357\n",
            "race_recode_3                  0.001328\n",
            "race_recode_5                  0.001328\n",
            "hispanic_origin                0.001328\n",
            "hispanic_originrace_recode     0.001328\n",
            "Length: 77, dtype: float64\n"
          ]
        }
      ],
      "source": [
        "# Print Missing Data as percentage (per column)\n",
        "total_rows = death_data.shape[0]\n",
        "percent_missing = (missing_values_count / total_rows) * 100\n",
        "print(percent_missing)"
      ]
    },
    {
      "cell_type": "code",
      "execution_count": 21,
      "metadata": {
        "colab": {
          "base_uri": "https://localhost:8080/"
        },
        "id": "7uZ6RQld9Qaz",
        "outputId": "d186b368-d37e-4eab-fe8d-79d4e2558f54"
      },
      "outputs": [
        {
          "output_type": "stream",
          "name": "stdout",
          "text": [
            "Total percentage of missing data in the dataset: 55.56%\n"
          ]
        }
      ],
      "source": [
        "total_missing_values = death_data.isnull().sum().sum()\n",
        "total_elements = death_data.size\n",
        "total_percent_missing = (total_missing_values / total_elements) * 100\n",
        "print(\"Total percentage of missing data in the dataset: {:.2f}%\".format(total_percent_missing))"
      ]
    },
    {
      "cell_type": "code",
      "execution_count": 22,
      "metadata": {
        "colab": {
          "base_uri": "https://localhost:8080/"
        },
        "id": "WbiaMIwB9Qd5",
        "outputId": "cc7395d7-cc59-4689-aef4-c422442a040d"
      },
      "outputs": [
        {
          "output_type": "stream",
          "name": "stdout",
          "text": [
            "  education_2003_revision month_of_death sex  \\\n",
            "0                     3.0              1   M   \n",
            "1                     6.0              1   M   \n",
            "2                     3.0              1   F   \n",
            "3                     3.0              1   F   \n",
            "4                     5.0              1   F   \n",
            "\n",
            "  place_of_death_and_decedents_status marital_status day_of_week_of_death  \\\n",
            "0                                   1              M                    1   \n",
            "1                                   1              M                    2   \n",
            "2                                   4              W                    6   \n",
            "3                                   4              S                    5   \n",
            "4                                   6              W                    5   \n",
            "\n",
            "  injury_at_work manner_of_death method_of_disposition autopsy  \\\n",
            "0              U             0.0                     B       N   \n",
            "1              U             0.0                     C       N   \n",
            "2              U             0.0                     C       N   \n",
            "3              N             1.0                     B       Y   \n",
            "4              U             0.0                     C       N   \n",
            "\n",
            "  icd_code_10th_revision 358_cause_recode 113_cause_recode 39_cause_recode  \\\n",
            "0                   I500              230               67              22   \n",
            "1                   C349               93               27               8   \n",
            "2                   G309              189               52              17   \n",
            "3                    X91              434              129              41   \n",
            "4                   I250              214               62              21   \n",
            "\n",
            "  race  detail_age  \n",
            "0  1.0          84  \n",
            "1  1.0          70  \n",
            "2  1.0          91  \n",
            "3  3.0          40  \n",
            "4  1.0          89  \n"
          ]
        },
        {
          "output_type": "stream",
          "name": "stderr",
          "text": [
            "<ipython-input-22-10db1edd9b90>:14: SettingWithCopyWarning: \n",
            "A value is trying to be set on a copy of a slice from a DataFrame.\n",
            "Try using .loc[row_indexer,col_indexer] = value instead\n",
            "\n",
            "See the caveats in the documentation: https://pandas.pydata.org/pandas-docs/stable/user_guide/indexing.html#returning-a-view-versus-a-copy\n",
            "  new_death[categorical_columns] = new_death[categorical_columns].astype('category')\n"
          ]
        }
      ],
      "source": [
        "# Isolate the Desired Columns\n",
        "desired_columns = ['education_2003_revision', 'month_of_death', 'sex', 'place_of_death_and_decedents_status',\n",
        "                   'marital_status', 'day_of_week_of_death', 'injury_at_work', 'manner_of_death', 'method_of_disposition',\n",
        "                   'autopsy', 'icd_code_10th_revision', '358_cause_recode', '113_cause_recode', '39_cause_recode', 'race','detail_age']\n",
        "new_death = death_data[desired_columns]\n",
        "\n",
        "# List of column names to convert to categorical\n",
        "categorical_columns = ['education_2003_revision', 'month_of_death', 'sex', 'place_of_death_and_decedents_status',\n",
        "                   'marital_status', 'day_of_week_of_death', 'injury_at_work', 'manner_of_death',\n",
        "                   'method_of_disposition', 'autopsy', 'icd_code_10th_revision', '358_cause_recode',\n",
        "                   '113_cause_recode', '39_cause_recode', 'race']\n",
        "\n",
        "# Convert the selected columns to categorical\n",
        "new_death[categorical_columns] = new_death[categorical_columns].astype('category')\n",
        "print(new_death.head())"
      ]
    },
    {
      "cell_type": "code",
      "source": [
        "# Get the data types for all columns\n",
        "data_types = new_death.dtypes\n",
        "\n",
        "print(data_types)"
      ],
      "metadata": {
        "colab": {
          "base_uri": "https://localhost:8080/"
        },
        "id": "5qXxMEeEwmEP",
        "outputId": "7f9816f1-c368-4ab7-ee58-2d84c549d2b8"
      },
      "execution_count": 23,
      "outputs": [
        {
          "output_type": "stream",
          "name": "stdout",
          "text": [
            "education_2003_revision                category\n",
            "month_of_death                         category\n",
            "sex                                    category\n",
            "place_of_death_and_decedents_status    category\n",
            "marital_status                         category\n",
            "day_of_week_of_death                   category\n",
            "injury_at_work                         category\n",
            "manner_of_death                        category\n",
            "method_of_disposition                  category\n",
            "autopsy                                category\n",
            "icd_code_10th_revision                 category\n",
            "358_cause_recode                       category\n",
            "113_cause_recode                       category\n",
            "39_cause_recode                        category\n",
            "race                                   category\n",
            "detail_age                                int64\n",
            "dtype: object\n"
          ]
        }
      ]
    },
    {
      "cell_type": "code",
      "execution_count": 24,
      "metadata": {
        "colab": {
          "base_uri": "https://localhost:8080/"
        },
        "id": "6iKmf46g9Qgk",
        "outputId": "144dabf0-b5c6-4e6a-ef21-6c85a9ae0b4a"
      },
      "outputs": [
        {
          "output_type": "stream",
          "name": "stdout",
          "text": [
            "Total percentage of missing data in the sample dataset: 4.43%\n"
          ]
        }
      ],
      "source": [
        "total_missing_values2 = new_death.isnull().sum().sum()\n",
        "total_elements2 = new_death.size\n",
        "total_percent_missing2 = (total_missing_values2 / total_elements2) * 100\n",
        "print(\"Total percentage of missing data in the sample dataset: {:.2f}%\".format(total_percent_missing2))"
      ]
    },
    {
      "cell_type": "code",
      "execution_count": 25,
      "metadata": {
        "colab": {
          "base_uri": "https://localhost:8080/"
        },
        "id": "TJ7HjtAr-s1R",
        "outputId": "9134af38-5c73-4699-a411-98a39e433e20"
      },
      "outputs": [
        {
          "output_type": "stream",
          "name": "stdout",
          "text": [
            "DataFrame after dropping rows with missing values:\n",
            "      education_2003_revision month_of_death sex  \\\n",
            "0                         3.0              1   M   \n",
            "1                         6.0              1   M   \n",
            "2                         3.0              1   F   \n",
            "3                         3.0              1   F   \n",
            "4                         5.0              1   F   \n",
            "...                       ...            ...  ..   \n",
            "75300                     3.0              8   M   \n",
            "75301                     2.0              8   M   \n",
            "75302                     3.0              8   M   \n",
            "75303                     3.0              7   M   \n",
            "75304                     2.0              8   M   \n",
            "\n",
            "      place_of_death_and_decedents_status marital_status day_of_week_of_death  \\\n",
            "0                                       1              M                    1   \n",
            "1                                       1              M                    2   \n",
            "2                                       4              W                    6   \n",
            "3                                       4              S                    5   \n",
            "4                                       6              W                    5   \n",
            "...                                   ...            ...                  ...   \n",
            "75300                                   4              M                    6   \n",
            "75301                                   4              D                    6   \n",
            "75302                                   2              M                    7   \n",
            "75303                                   1              W                    5   \n",
            "75304                                   1              M                    7   \n",
            "\n",
            "      injury_at_work manner_of_death method_of_disposition autopsy  \\\n",
            "0                  U             0.0                     B       N   \n",
            "1                  U             0.0                     C       N   \n",
            "2                  U             0.0                     C       N   \n",
            "3                  N             1.0                     B       Y   \n",
            "4                  U             0.0                     C       N   \n",
            "...              ...             ...                   ...     ...   \n",
            "75300              U             0.0                     C       N   \n",
            "75301              U             0.0                     C       N   \n",
            "75302              U             0.0                     B       N   \n",
            "75303              U             0.0                     B       N   \n",
            "75304              U             0.0                     C       N   \n",
            "\n",
            "      icd_code_10th_revision 358_cause_recode 113_cause_recode  \\\n",
            "0                       I500              230               67   \n",
            "1                       C349               93               27   \n",
            "2                       G309              189               52   \n",
            "3                        X91              434              129   \n",
            "4                       I250              214               62   \n",
            "...                      ...              ...              ...   \n",
            "75300                   C349               93               27   \n",
            "75301                   C349               93               27   \n",
            "75302                   I219              211               59   \n",
            "75303                   I500              230               67   \n",
            "75304                   C140               74               20   \n",
            "\n",
            "      39_cause_recode race  detail_age  \n",
            "0                  22  1.0          84  \n",
            "1                   8  1.0          70  \n",
            "2                  17  1.0          91  \n",
            "3                  41  3.0          40  \n",
            "4                  21  1.0          89  \n",
            "...               ...  ...         ...  \n",
            "75300               8  1.0          63  \n",
            "75301               8  1.0          74  \n",
            "75302              21  1.0          59  \n",
            "75303              22  1.0          81  \n",
            "75304              15  1.0          65  \n",
            "\n",
            "[24435 rows x 16 columns]\n"
          ]
        }
      ],
      "source": [
        "# Drop rows with missing values\n",
        "death_dropped = new_death.dropna()\n",
        "\n",
        "print(\"DataFrame after dropping rows with missing values:\")\n",
        "print(death_dropped)"
      ]
    },
    {
      "cell_type": "code",
      "execution_count": 26,
      "metadata": {
        "colab": {
          "base_uri": "https://localhost:8080/"
        },
        "id": "pZUN23ne-syo",
        "outputId": "a0b54dd1-c347-4f68-8afd-c9dbbd08f929"
      },
      "outputs": [
        {
          "output_type": "stream",
          "name": "stdout",
          "text": [
            "Total percentage of missing data in the sample dataset: 0.00%\n"
          ]
        }
      ],
      "source": [
        "total_missing_values3 = death_dropped.isnull().sum().sum()\n",
        "total_elements3 = death_dropped.size\n",
        "total_percent_missing3 = (total_missing_values3 / total_elements3) * 100\n",
        "print(\"Total percentage of missing data in the sample dataset: {:.2f}%\".format(total_percent_missing3))"
      ]
    },
    {
      "cell_type": "code",
      "execution_count": 27,
      "metadata": {
        "colab": {
          "base_uri": "https://localhost:8080/"
        },
        "id": "npW_p7-4-svv",
        "outputId": "27edf7e7-5bca-4275-80ff-64d9b02f46ff"
      },
      "outputs": [
        {
          "output_type": "stream",
          "name": "stdout",
          "text": [
            "        detail_age\n",
            "count  24435.00000\n",
            "mean      70.88807\n",
            "std       18.38804\n",
            "min        1.00000\n",
            "25%       61.00000\n",
            "50%       74.00000\n",
            "75%       84.00000\n",
            "max      116.00000\n"
          ]
        }
      ],
      "source": [
        "summary_stats = death_dropped.describe()\n",
        "print(summary_stats)"
      ]
    },
    {
      "cell_type": "code",
      "execution_count": 28,
      "metadata": {
        "id": "t829DKtS-ss5"
      },
      "outputs": [],
      "source": [
        "import random\n",
        "import numpy as np"
      ]
    },
    {
      "cell_type": "markdown",
      "metadata": {
        "id": "qmoIt-JTv37l"
      },
      "source": [
        "### Random Sample"
      ]
    },
    {
      "cell_type": "code",
      "execution_count": 29,
      "metadata": {
        "colab": {
          "base_uri": "https://localhost:8080/"
        },
        "id": "U1nMNXlN-smx",
        "outputId": "9683669c-dccf-4133-aaaf-7bfe283b58fd"
      },
      "outputs": [
        {
          "output_type": "stream",
          "name": "stdout",
          "text": [
            "Number of rows after random sampling = 1710\n",
            "      education_2003_revision month_of_death sex  \\\n",
            "64875                     2.0              6   F   \n",
            "61082                     3.0              1   F   \n",
            "63792                     5.0              4   F   \n",
            "55219                     6.0              1   F   \n",
            "183                       5.0              1   M   \n",
            "\n",
            "      place_of_death_and_decedents_status marital_status day_of_week_of_death  \\\n",
            "64875                                   1              M                    7   \n",
            "61082                                   6              W                    1   \n",
            "63792                                   4              W                    2   \n",
            "55219                                   4              M                    2   \n",
            "183                                     4              D                    5   \n",
            "\n",
            "      injury_at_work manner_of_death method_of_disposition autopsy  \\\n",
            "64875              U             0.0                     B       N   \n",
            "61082              U             0.0                     B       N   \n",
            "63792              U             0.0                     B       N   \n",
            "55219              U             0.0                     C       N   \n",
            "183                U             0.0                     C       N   \n",
            "\n",
            "      icd_code_10th_revision 358_cause_recode 113_cause_recode  \\\n",
            "64875                   I119              207               56   \n",
            "61082                   G311              194              111   \n",
            "63792                   I629              236               70   \n",
            "55219                   E119              159               46   \n",
            "183                     E145              159               46   \n",
            "\n",
            "      39_cause_recode race  detail_age  \n",
            "64875              20  1.0          77  \n",
            "61082              37  1.0          91  \n",
            "63792              24  1.0          90  \n",
            "55219              16  6.0          68  \n",
            "183                16  1.0          72  \n"
          ]
        }
      ],
      "source": [
        "# Perform random sampling\n",
        "sampled_df = death_dropped.sample(frac=0.07, random_state=1)\n",
        "print('Number of rows after random sampling = %d' % (sampled_df.shape[0]))\n",
        "\n",
        "print(sampled_df.head())"
      ]
    },
    {
      "cell_type": "code",
      "execution_count": 30,
      "metadata": {
        "colab": {
          "base_uri": "https://localhost:8080/"
        },
        "id": "EiSK_7Agv37l",
        "outputId": "1852f5db-3c0e-49f0-e38d-3f29bc896693"
      },
      "outputs": [
        {
          "output_type": "stream",
          "name": "stdout",
          "text": [
            "education_2003_revision Frequency:\n",
            "3.0    780\n",
            "4.0    230\n",
            "1.0    216\n",
            "2.0    206\n",
            "6.0    114\n",
            "5.0     89\n",
            "7.0     41\n",
            "9.0     18\n",
            "8.0     16\n",
            "Name: education_2003_revision, dtype: int64\n",
            "month_of_death Frequency:\n",
            "1     234\n",
            "3     228\n",
            "2     223\n",
            "7     193\n",
            "4     190\n",
            "5     185\n",
            "6     185\n",
            "8     148\n",
            "9      50\n",
            "10     27\n",
            "12     24\n",
            "11     23\n",
            "Name: month_of_death, dtype: int64\n",
            "sex Frequency:\n",
            "M    860\n",
            "F    850\n",
            "Name: sex, dtype: int64\n",
            "place_of_death_and_decedents_status Frequency:\n",
            "4    542\n",
            "1    485\n",
            "6    275\n",
            "5    183\n",
            "2    139\n",
            "7     79\n",
            "3      7\n",
            "9      0\n",
            "Name: place_of_death_and_decedents_status, dtype: int64\n",
            "marital_status Frequency:\n",
            "M    625\n",
            "W    556\n",
            "D    318\n",
            "S    198\n",
            "U     13\n",
            "Name: marital_status, dtype: int64\n",
            "day_of_week_of_death Frequency:\n",
            "4    266\n",
            "6    255\n",
            "2    247\n",
            "1    243\n",
            "7    235\n",
            "5    234\n",
            "3    230\n",
            "Name: day_of_week_of_death, dtype: int64\n",
            "injury_at_work Frequency:\n",
            "U    1559\n",
            "N     147\n",
            "Y       4\n",
            "Name: injury_at_work, dtype: int64\n",
            "manner_of_death Frequency:\n",
            "0.0    1699\n",
            "1.0      11\n",
            "Name: manner_of_death, dtype: int64\n",
            "method_of_disposition Frequency:\n",
            "B    949\n",
            "C    716\n",
            "R     27\n",
            "D     10\n",
            "E      7\n",
            "U      1\n",
            "O      0\n",
            "Name: method_of_disposition, dtype: int64\n",
            "autopsy Frequency:\n",
            "N    1616\n",
            "Y      93\n",
            "U       1\n",
            "Name: autopsy, dtype: int64\n",
            "race Frequency:\n",
            "1.0     1466\n",
            "2.0      154\n",
            "3.0       69\n",
            "68.0       7\n",
            "7.0        5\n",
            "4.0        2\n",
            "28.0       2\n",
            "78.0       2\n",
            "6.0        1\n",
            "18.0       1\n",
            "48.0       1\n",
            "5.0        0\n",
            "38.0       0\n",
            "58.0       0\n",
            "Name: race, dtype: int64\n"
          ]
        }
      ],
      "source": [
        "# Value Counts for each Categorical Variable\n",
        "education_counts = sampled_df['education_2003_revision'].value_counts()\n",
        "print(\"education_2003_revision Frequency:\")\n",
        "print(education_counts)\n",
        "\n",
        "month_of_death_counts = sampled_df['month_of_death'].value_counts()\n",
        "print(\"month_of_death Frequency:\")\n",
        "print(month_of_death_counts)\n",
        "\n",
        "sex_counts = sampled_df['sex'].value_counts()\n",
        "print(\"sex Frequency:\")\n",
        "print(sex_counts)\n",
        "\n",
        "place_of_death_and_decedents_status_counts = sampled_df['place_of_death_and_decedents_status'].value_counts()\n",
        "print(\"place_of_death_and_decedents_status Frequency:\")\n",
        "print(place_of_death_and_decedents_status_counts)\n",
        "\n",
        "marital_status_counts = sampled_df['marital_status'].value_counts()\n",
        "print(\"marital_status Frequency:\")\n",
        "print(marital_status_counts)\n",
        "\n",
        "day_of_week_of_death_counts = sampled_df['day_of_week_of_death'].value_counts()\n",
        "print(\"day_of_week_of_death Frequency:\")\n",
        "print(day_of_week_of_death_counts)\n",
        "\n",
        "injury_at_work_counts = sampled_df['injury_at_work'].value_counts()\n",
        "print(\"injury_at_work Frequency:\")\n",
        "print(injury_at_work_counts)\n",
        "\n",
        "manner_of_death_counts = sampled_df['manner_of_death'].value_counts()\n",
        "print(\"manner_of_death Frequency:\")\n",
        "print(manner_of_death_counts)\n",
        "\n",
        "method_of_disposition_counts = sampled_df['method_of_disposition'].value_counts()\n",
        "print(\"method_of_disposition Frequency:\")\n",
        "print(method_of_disposition_counts)\n",
        "\n",
        "autopsy_counts = sampled_df['autopsy'].value_counts()\n",
        "print(\"autopsy Frequency:\")\n",
        "print(autopsy_counts)\n",
        "\n",
        "race_counts = sampled_df['race'].value_counts()\n",
        "print(\"race Frequency:\")\n",
        "print(race_counts)\n"
      ]
    },
    {
      "cell_type": "markdown",
      "metadata": {
        "id": "C8mJPRVsv37l"
      },
      "source": [
        "### Remove Outliers"
      ]
    },
    {
      "cell_type": "code",
      "execution_count": 31,
      "metadata": {
        "colab": {
          "base_uri": "https://localhost:8080/"
        },
        "id": "fqW4TACIv37l",
        "outputId": "c7a8b2f1-46a4-41b7-c0a5-38de847acb84"
      },
      "outputs": [
        {
          "output_type": "stream",
          "name": "stdout",
          "text": [
            "Number of rows before discarding outliers = 1710\n",
            "Number of rows after discarding missing values = 1687\n"
          ]
        }
      ],
      "source": [
        "# Compute z-score for every data point in detail_age\n",
        "sampled_df['z_detail_age'] = (sampled_df['detail_age']-sampled_df['detail_age'].mean())/sampled_df['detail_age'].std()\n",
        "print('Number of rows before discarding outliers = %d' % (sampled_df.shape[0]))\n",
        "\n",
        "# Removes rows with a zscore beyond 3 or -3\n",
        "sampled_df = sampled_df[(sampled_df['z_detail_age'] <= 3) & (sampled_df['z_detail_age'] >= -3)]\n",
        "print('Number of rows after discarding missing values = %d' % (sampled_df.shape[0]))\n",
        "\n",
        "# Drop the 'C' column\n",
        "column_name = 'z_detail_age'\n",
        "sampled_df.drop(column_name, axis=1, inplace=True)"
      ]
    },
    {
      "cell_type": "code",
      "execution_count": 32,
      "metadata": {
        "colab": {
          "base_uri": "https://localhost:8080/",
          "height": 472
        },
        "id": "8rO44Ip7BuJs",
        "outputId": "69339c68-abe3-4205-9ee3-6d71bfc14499"
      },
      "outputs": [
        {
          "output_type": "display_data",
          "data": {
            "text/plain": [
              "<Figure size 640x480 with 1 Axes>"
            ],
            "image/png": "[encoded data removed]"
          },
          "metadata": {}
        }
      ],
      "source": [
        "# Non-Normalized Sample\n",
        "sns.boxplot(data=sampled_df[['detail_age']])\n",
        "plt.xlabel('Variable')\n",
        "plt.ylabel('Value')\n",
        "plt.title(\"Box Plot for detail_age\")\n",
        "plt.show()"
      ]
    },
    {
      "cell_type": "markdown",
      "source": [
        "### Class Imbalances"
      ],
      "metadata": {
        "id": "0bqqy_OwqZP6"
      }
    },
    {
      "cell_type": "code",
      "source": [
        "# Calculate class proportions\n",
        "class_proportions = sampled_df['manner_of_death'].value_counts(normalize=True)\n",
        "\n",
        "print(class_proportions)"
      ],
      "metadata": {
        "colab": {
          "base_uri": "https://localhost:8080/"
        },
        "id": "bY4dPMPGqY0D",
        "outputId": "22f3ebdf-d661-47dc-928c-e1ec377c0d02"
      },
      "execution_count": 33,
      "outputs": [
        {
          "output_type": "stream",
          "name": "stdout",
          "text": [
            "0.0    0.994072\n",
            "1.0    0.005928\n",
            "Name: manner_of_death, dtype: float64\n"
          ]
        }
      ]
    },
    {
      "cell_type": "code",
      "source": [
        "# Get the data types for all columns in sampled_df\n",
        "data_types2 = sampled_df.dtypes\n",
        "print(data_types2)"
      ],
      "metadata": {
        "colab": {
          "base_uri": "https://localhost:8080/"
        },
        "id": "1aYHvZ-dviod",
        "outputId": "fa85e537-154a-497f-ccc1-65d090e430f7"
      },
      "execution_count": 34,
      "outputs": [
        {
          "output_type": "stream",
          "name": "stdout",
          "text": [
            "education_2003_revision                category\n",
            "month_of_death                         category\n",
            "sex                                    category\n",
            "place_of_death_and_decedents_status    category\n",
            "marital_status                         category\n",
            "day_of_week_of_death                   category\n",
            "injury_at_work                         category\n",
            "manner_of_death                        category\n",
            "method_of_disposition                  category\n",
            "autopsy                                category\n",
            "icd_code_10th_revision                 category\n",
            "358_cause_recode                       category\n",
            "113_cause_recode                       category\n",
            "39_cause_recode                        category\n",
            "race                                   category\n",
            "detail_age                                int64\n",
            "dtype: object\n"
          ]
        }
      ]
    },
    {
      "cell_type": "code",
      "source": [
        "# pip install imbalanced-learn\n",
        "from imblearn.ensemble import BalancedRandomForestClassifier"
      ],
      "metadata": {
        "id": "ao_xYIJ003Hb"
      },
      "execution_count": 35,
      "outputs": []
    },
    {
      "cell_type": "code",
      "source": [
        "# Sample data: Replace this with your own data\n",
        "X_train, y_train = ..., ...  # Your training data and labels\n",
        "\n",
        "# Create and train the Balanced Random Forest classifier\n",
        "brf = BalancedRandomForestClassifier(n_estimators=100, random_state=42)\n",
        "brf.fit(X_train, y_train)\n",
        "\n",
        "# Make predictions\n",
        "y_pred = brf.predict(X_test)"
      ],
      "metadata": {
        "id": "Kp2cC1fA029V",
        "colab": {
          "base_uri": "https://localhost:8080/",
          "height": 409
        },
        "outputId": "d10c538b-c96d-4039-f4c2-53549d80f4c5"
      },
      "execution_count": 38,
      "outputs": [
        {
          "output_type": "error",
          "ename": "TypeError",
          "evalue": "ignored",
          "traceback": [
            "\u001b[0;31m---------------------------------------------------------------------------\u001b[0m",
            "\u001b[0;31mTypeError\u001b[0m                                 Traceback (most recent call last)",
            "\u001b[0;32m<ipython-input-38-ce46c024dc2c>\u001b[0m in \u001b[0;36m<cell line: 6>\u001b[0;34m()\u001b[0m\n\u001b[1;32m      4\u001b[0m \u001b[0;31m# Create and train the Balanced Random Forest classifier\u001b[0m\u001b[0;34m\u001b[0m\u001b[0;34m\u001b[0m\u001b[0m\n\u001b[1;32m      5\u001b[0m \u001b[0mbrf\u001b[0m \u001b[0;34m=\u001b[0m \u001b[0mBalancedRandomForestClassifier\u001b[0m\u001b[0;34m(\u001b[0m\u001b[0mn_estimators\u001b[0m\u001b[0;34m=\u001b[0m\u001b[0;36m100\u001b[0m\u001b[0;34m,\u001b[0m \u001b[0mrandom_state\u001b[0m\u001b[0;34m=\u001b[0m\u001b[0;36m42\u001b[0m\u001b[0;34m)\u001b[0m\u001b[0;34m\u001b[0m\u001b[0;34m\u001b[0m\u001b[0m\n\u001b[0;32m----> 6\u001b[0;31m \u001b[0mbrf\u001b[0m\u001b[0;34m.\u001b[0m\u001b[0mfit\u001b[0m\u001b[0;34m(\u001b[0m\u001b[0mX_train\u001b[0m\u001b[0;34m,\u001b[0m \u001b[0my_train\u001b[0m\u001b[0;34m)\u001b[0m\u001b[0;34m\u001b[0m\u001b[0;34m\u001b[0m\u001b[0m\n\u001b[0m\u001b[1;32m      7\u001b[0m \u001b[0;34m\u001b[0m\u001b[0m\n\u001b[1;32m      8\u001b[0m \u001b[0;31m# Make predictions\u001b[0m\u001b[0;34m\u001b[0m\u001b[0;34m\u001b[0m\u001b[0m\n",
            "\u001b[0;32m/usr/local/lib/python3.10/dist-packages/imblearn/ensemble/_forest.py\u001b[0m in \u001b[0;36mfit\u001b[0;34m(self, X, y, sample_weight)\u001b[0m\n\u001b[1;32m    494\u001b[0m         \u001b[0;32mif\u001b[0m \u001b[0missparse\u001b[0m\u001b[0;34m(\u001b[0m\u001b[0my\u001b[0m\u001b[0;34m)\u001b[0m\u001b[0;34m:\u001b[0m\u001b[0;34m\u001b[0m\u001b[0;34m\u001b[0m\u001b[0m\n\u001b[1;32m    495\u001b[0m             \u001b[0;32mraise\u001b[0m \u001b[0mValueError\u001b[0m\u001b[0;34m(\u001b[0m\u001b[0;34m\"sparse multilabel-indicator for y is not supported.\"\u001b[0m\u001b[0;34m)\u001b[0m\u001b[0;34m\u001b[0m\u001b[0;34m\u001b[0m\u001b[0m\n\u001b[0;32m--> 496\u001b[0;31m         X, y = self._validate_data(\n\u001b[0m\u001b[1;32m    497\u001b[0m             \u001b[0mX\u001b[0m\u001b[0;34m,\u001b[0m \u001b[0my\u001b[0m\u001b[0;34m,\u001b[0m \u001b[0mmulti_output\u001b[0m\u001b[0;34m=\u001b[0m\u001b[0;32mTrue\u001b[0m\u001b[0;34m,\u001b[0m \u001b[0maccept_sparse\u001b[0m\u001b[0;34m=\u001b[0m\u001b[0;34m\"csc\"\u001b[0m\u001b[0;34m,\u001b[0m \u001b[0mdtype\u001b[0m\u001b[0;34m=\u001b[0m\u001b[0mDTYPE\u001b[0m\u001b[0;34m\u001b[0m\u001b[0;34m\u001b[0m\u001b[0m\n\u001b[1;32m    498\u001b[0m         )\n",
            "\u001b[0;32m/usr/local/lib/python3.10/dist-packages/sklearn/base.py\u001b[0m in \u001b[0;36m_validate_data\u001b[0;34m(self, X, y, reset, validate_separately, **check_params)\u001b[0m\n\u001b[1;32m    582\u001b[0m                 \u001b[0my\u001b[0m \u001b[0;34m=\u001b[0m \u001b[0mcheck_array\u001b[0m\u001b[0;34m(\u001b[0m\u001b[0my\u001b[0m\u001b[0;34m,\u001b[0m \u001b[0minput_name\u001b[0m\u001b[0;34m=\u001b[0m\u001b[0;34m\"y\"\u001b[0m\u001b[0;34m,\u001b[0m \u001b[0;34m**\u001b[0m\u001b[0mcheck_y_params\u001b[0m\u001b[0;34m)\u001b[0m\u001b[0;34m\u001b[0m\u001b[0;34m\u001b[0m\u001b[0m\n\u001b[1;32m    583\u001b[0m             \u001b[0;32melse\u001b[0m\u001b[0;34m:\u001b[0m\u001b[0;34m\u001b[0m\u001b[0;34m\u001b[0m\u001b[0m\n\u001b[0;32m--> 584\u001b[0;31m                 \u001b[0mX\u001b[0m\u001b[0;34m,\u001b[0m \u001b[0my\u001b[0m \u001b[0;34m=\u001b[0m \u001b[0mcheck_X_y\u001b[0m\u001b[0;34m(\u001b[0m\u001b[0mX\u001b[0m\u001b[0;34m,\u001b[0m \u001b[0my\u001b[0m\u001b[0;34m,\u001b[0m \u001b[0;34m**\u001b[0m\u001b[0mcheck_params\u001b[0m\u001b[0;34m)\u001b[0m\u001b[0;34m\u001b[0m\u001b[0;34m\u001b[0m\u001b[0m\n\u001b[0m\u001b[1;32m    585\u001b[0m             \u001b[0mout\u001b[0m \u001b[0;34m=\u001b[0m \u001b[0mX\u001b[0m\u001b[0;34m,\u001b[0m \u001b[0my\u001b[0m\u001b[0;34m\u001b[0m\u001b[0;34m\u001b[0m\u001b[0m\n\u001b[1;32m    586\u001b[0m \u001b[0;34m\u001b[0m\u001b[0m\n",
            "\u001b[0;32m/usr/local/lib/python3.10/dist-packages/sklearn/utils/validation.py\u001b[0m in \u001b[0;36mcheck_X_y\u001b[0;34m(X, y, accept_sparse, accept_large_sparse, dtype, order, copy, force_all_finite, ensure_2d, allow_nd, multi_output, ensure_min_samples, ensure_min_features, y_numeric, estimator)\u001b[0m\n\u001b[1;32m   1104\u001b[0m         )\n\u001b[1;32m   1105\u001b[0m \u001b[0;34m\u001b[0m\u001b[0m\n\u001b[0;32m-> 1106\u001b[0;31m     X = check_array(\n\u001b[0m\u001b[1;32m   1107\u001b[0m         \u001b[0mX\u001b[0m\u001b[0;34m,\u001b[0m\u001b[0;34m\u001b[0m\u001b[0;34m\u001b[0m\u001b[0m\n\u001b[1;32m   1108\u001b[0m         \u001b[0maccept_sparse\u001b[0m\u001b[0;34m=\u001b[0m\u001b[0maccept_sparse\u001b[0m\u001b[0;34m,\u001b[0m\u001b[0;34m\u001b[0m\u001b[0;34m\u001b[0m\u001b[0m\n",
            "\u001b[0;32m/usr/local/lib/python3.10/dist-packages/sklearn/utils/validation.py\u001b[0m in \u001b[0;36mcheck_array\u001b[0;34m(array, accept_sparse, accept_large_sparse, dtype, order, copy, force_all_finite, ensure_2d, allow_nd, ensure_min_samples, ensure_min_features, estimator, input_name)\u001b[0m\n\u001b[1;32m    877\u001b[0m                     \u001b[0marray\u001b[0m \u001b[0;34m=\u001b[0m \u001b[0mxp\u001b[0m\u001b[0;34m.\u001b[0m\u001b[0mastype\u001b[0m\u001b[0;34m(\u001b[0m\u001b[0marray\u001b[0m\u001b[0;34m,\u001b[0m \u001b[0mdtype\u001b[0m\u001b[0;34m,\u001b[0m \u001b[0mcopy\u001b[0m\u001b[0;34m=\u001b[0m\u001b[0;32mFalse\u001b[0m\u001b[0;34m)\u001b[0m\u001b[0;34m\u001b[0m\u001b[0;34m\u001b[0m\u001b[0m\n\u001b[1;32m    878\u001b[0m                 \u001b[0;32melse\u001b[0m\u001b[0;34m:\u001b[0m\u001b[0;34m\u001b[0m\u001b[0;34m\u001b[0m\u001b[0m\n\u001b[0;32m--> 879\u001b[0;31m                     \u001b[0marray\u001b[0m \u001b[0;34m=\u001b[0m \u001b[0m_asarray_with_order\u001b[0m\u001b[0;34m(\u001b[0m\u001b[0marray\u001b[0m\u001b[0;34m,\u001b[0m \u001b[0morder\u001b[0m\u001b[0;34m=\u001b[0m\u001b[0morder\u001b[0m\u001b[0;34m,\u001b[0m \u001b[0mdtype\u001b[0m\u001b[0;34m=\u001b[0m\u001b[0mdtype\u001b[0m\u001b[0;34m,\u001b[0m \u001b[0mxp\u001b[0m\u001b[0;34m=\u001b[0m\u001b[0mxp\u001b[0m\u001b[0;34m)\u001b[0m\u001b[0;34m\u001b[0m\u001b[0;34m\u001b[0m\u001b[0m\n\u001b[0m\u001b[1;32m    880\u001b[0m             \u001b[0;32mexcept\u001b[0m \u001b[0mComplexWarning\u001b[0m \u001b[0;32mas\u001b[0m \u001b[0mcomplex_warning\u001b[0m\u001b[0;34m:\u001b[0m\u001b[0;34m\u001b[0m\u001b[0;34m\u001b[0m\u001b[0m\n\u001b[1;32m    881\u001b[0m                 raise ValueError(\n",
            "\u001b[0;32m/usr/local/lib/python3.10/dist-packages/sklearn/utils/_array_api.py\u001b[0m in \u001b[0;36m_asarray_with_order\u001b[0;34m(array, dtype, order, copy, xp)\u001b[0m\n\u001b[1;32m    183\u001b[0m     \u001b[0;32mif\u001b[0m \u001b[0mxp\u001b[0m\u001b[0;34m.\u001b[0m\u001b[0m__name__\u001b[0m \u001b[0;32min\u001b[0m \u001b[0;34m{\u001b[0m\u001b[0;34m\"numpy\"\u001b[0m\u001b[0;34m,\u001b[0m \u001b[0;34m\"numpy.array_api\"\u001b[0m\u001b[0;34m}\u001b[0m\u001b[0;34m:\u001b[0m\u001b[0;34m\u001b[0m\u001b[0;34m\u001b[0m\u001b[0m\n\u001b[1;32m    184\u001b[0m         \u001b[0;31m# Use NumPy API to support order\u001b[0m\u001b[0;34m\u001b[0m\u001b[0;34m\u001b[0m\u001b[0m\n\u001b[0;32m--> 185\u001b[0;31m         \u001b[0marray\u001b[0m \u001b[0;34m=\u001b[0m \u001b[0mnumpy\u001b[0m\u001b[0;34m.\u001b[0m\u001b[0masarray\u001b[0m\u001b[0;34m(\u001b[0m\u001b[0marray\u001b[0m\u001b[0;34m,\u001b[0m \u001b[0morder\u001b[0m\u001b[0;34m=\u001b[0m\u001b[0morder\u001b[0m\u001b[0;34m,\u001b[0m \u001b[0mdtype\u001b[0m\u001b[0;34m=\u001b[0m\u001b[0mdtype\u001b[0m\u001b[0;34m)\u001b[0m\u001b[0;34m\u001b[0m\u001b[0;34m\u001b[0m\u001b[0m\n\u001b[0m\u001b[1;32m    186\u001b[0m         \u001b[0;32mreturn\u001b[0m \u001b[0mxp\u001b[0m\u001b[0;34m.\u001b[0m\u001b[0masarray\u001b[0m\u001b[0;34m(\u001b[0m\u001b[0marray\u001b[0m\u001b[0;34m,\u001b[0m \u001b[0mcopy\u001b[0m\u001b[0;34m=\u001b[0m\u001b[0mcopy\u001b[0m\u001b[0;34m)\u001b[0m\u001b[0;34m\u001b[0m\u001b[0;34m\u001b[0m\u001b[0m\n\u001b[1;32m    187\u001b[0m     \u001b[0;32melse\u001b[0m\u001b[0;34m:\u001b[0m\u001b[0;34m\u001b[0m\u001b[0;34m\u001b[0m\u001b[0m\n",
            "\u001b[0;31mTypeError\u001b[0m: float() argument must be a string or a real number, not 'ellipsis'"
          ]
        }
      ]
    },
    {
      "cell_type": "markdown",
      "metadata": {
        "id": "RgYd-UXNv37l"
      },
      "source": [
        "### Normalize Data and Encode Categorical Variables"
      ]
    },
    {
      "cell_type": "code",
      "execution_count": null,
      "metadata": {
        "id": "0ejJnmarBuDt"
      },
      "outputs": [],
      "source": [
        "from sklearn.preprocessing import MinMaxScaler"
      ]
    },
    {
      "cell_type": "code",
      "execution_count": null,
      "metadata": {
        "id": "BMVTSypcBuAz"
      },
      "outputs": [],
      "source": [
        "# Normalize detail_age using Min-Max scaler\n",
        "mms = MinMaxScaler()\n",
        "sampled_df[['detail_age']] = mms.fit_transform(sampled_df[['detail_age']])\n",
        "print(sampled_df)"
      ]
    },
    {
      "cell_type": "code",
      "execution_count": 88,
      "metadata": {
        "id": "aIiWRDMhv37m",
        "outputId": "984858b0-557d-4f85-b2cc-be13340dc5cb",
        "colab": {
          "base_uri": "https://localhost:8080/"
        }
      },
      "outputs": [
        {
          "output_type": "stream",
          "name": "stdout",
          "text": [
            "      manner_of_death icd_code_10th_revision 358_cause_recode  \\\n",
            "64875             0.0                   I119              207   \n",
            "61082             0.0                   G311              194   \n",
            "63792             0.0                   I629              236   \n",
            "55219             0.0                   E119              159   \n",
            "183               0.0                   E145              159   \n",
            "...               ...                    ...              ...   \n",
            "71058             0.0                   I500              230   \n",
            "69213             0.0                   C349               93   \n",
            "60003             0.0                   C259               88   \n",
            "3128              0.0                   C189               81   \n",
            "1852              0.0                   J449              267   \n",
            "\n",
            "      113_cause_recode 39_cause_recode  detail_age  \\\n",
            "64875               56              20          77   \n",
            "61082              111              37          91   \n",
            "63792               70              24          90   \n",
            "55219               46              16          68   \n",
            "183                 46              16          72   \n",
            "...                ...             ...         ...   \n",
            "71058               67              22          68   \n",
            "69213               27               8          81   \n",
            "60003               25               7          78   \n",
            "3128                23               6          59   \n",
            "1852                86              28          83   \n",
            "\n",
            "       education_2003_revision_1.0  education_2003_revision_2.0  \\\n",
            "64875                            0                            1   \n",
            "61082                            0                            0   \n",
            "63792                            0                            0   \n",
            "55219                            0                            0   \n",
            "183                              0                            0   \n",
            "...                            ...                          ...   \n",
            "71058                            0                            1   \n",
            "69213                            1                            0   \n",
            "60003                            0                            0   \n",
            "3128                             0                            0   \n",
            "1852                             0                            0   \n",
            "\n",
            "       education_2003_revision_3.0  education_2003_revision_4.0  ...  \\\n",
            "64875                            0                            0  ...   \n",
            "61082                            1                            0  ...   \n",
            "63792                            0                            0  ...   \n",
            "55219                            0                            0  ...   \n",
            "183                              0                            0  ...   \n",
            "...                            ...                          ...  ...   \n",
            "71058                            0                            0  ...   \n",
            "69213                            0                            0  ...   \n",
            "60003                            1                            0  ...   \n",
            "3128                             1                            0  ...   \n",
            "1852                             0                            0  ...   \n",
            "\n",
            "       race_5.0  race_6.0  race_7.0  race_18.0  race_28.0  race_38.0  \\\n",
            "64875         0         0         0          0          0          0   \n",
            "61082         0         0         0          0          0          0   \n",
            "63792         0         0         0          0          0          0   \n",
            "55219         0         1         0          0          0          0   \n",
            "183           0         0         0          0          0          0   \n",
            "...         ...       ...       ...        ...        ...        ...   \n",
            "71058         0         0         0          0          0          0   \n",
            "69213         0         0         0          0          0          0   \n",
            "60003         0         0         0          0          0          0   \n",
            "3128          0         0         0          0          0          0   \n",
            "1852          0         0         0          0          0          0   \n",
            "\n",
            "       race_48.0  race_58.0  race_68.0  race_78.0  \n",
            "64875          0          0          0          0  \n",
            "61082          0          0          0          0  \n",
            "63792          0          0          0          0  \n",
            "55219          0          0          0          0  \n",
            "183            0          0          0          0  \n",
            "...          ...        ...        ...        ...  \n",
            "71058          0          0          0          0  \n",
            "69213          0          0          0          0  \n",
            "60003          0          0          0          0  \n",
            "3128           0          0          0          0  \n",
            "1852           0          0          0          0  \n",
            "\n",
            "[1687 rows x 76 columns]\n"
          ]
        }
      ],
      "source": [
        "# Perform one-hot encoding on categorical columns\n",
        "encoded_df = pd.get_dummies(sampled_df, columns=['education_2003_revision', 'month_of_death', 'sex', 'place_of_death_and_decedents_status', 'marital_status', 'day_of_week_of_death', 'injury_at_work','method_of_disposition', 'autopsy', 'race'],\n",
        "                            prefix=['education_2003_revision', 'month_of_death', 'sex', 'place_of_death_and_decedents_status', 'marital_status', 'day_of_week_of_death', 'injury_at_work','method_of_disposition', 'autopsy', 'race'])\n",
        "print(encoded_df)"
      ]
    },
    {
      "cell_type": "markdown",
      "metadata": {
        "id": "t-9AD4Xjv37m"
      },
      "source": [
        "### Column Distributions"
      ]
    },
    {
      "cell_type": "code",
      "execution_count": null,
      "metadata": {
        "id": "-p0cgMHINJKI"
      },
      "outputs": [],
      "source": [
        "education_2003_revision  = sampled_df['education_2003_revision']\n",
        "sns.histplot(education_2003_revision, bins=10, color='skyblue', edgecolor='black')\n",
        "plt.xlabel('Value')\n",
        "plt.ylabel('Frequency')\n",
        "plt.title('Histogram of education_2003_revision')\n",
        "plt.show()"
      ]
    },
    {
      "cell_type": "code",
      "execution_count": null,
      "metadata": {
        "id": "LjpKfHiGNJHU"
      },
      "outputs": [],
      "source": [
        "month_of_death = sampled_df['month_of_death']\n",
        "sns.histplot(month_of_death, bins=12\n",
        "             , color='skyblue', edgecolor='black')\n",
        "plt.xlabel('Value')\n",
        "plt.ylabel('Frequency')\n",
        "plt.title('Histogram of month_of_death')\n",
        "plt.show()"
      ]
    },
    {
      "cell_type": "code",
      "execution_count": null,
      "metadata": {
        "id": "hgSXrYnxNJEY"
      },
      "outputs": [],
      "source": [
        "sex = sampled_df['sex']\n",
        "sns.histplot(sex, bins=2, color='skyblue', edgecolor='black')\n",
        "plt.xlabel('Value')\n",
        "plt.ylabel('Frequency')\n",
        "plt.title('Histogram of sex')\n",
        "plt.show()"
      ]
    },
    {
      "cell_type": "code",
      "execution_count": null,
      "metadata": {
        "id": "1u1DHJbhNJBg"
      },
      "outputs": [],
      "source": [
        "place_of_death_and_decedents_status = sampled_df['place_of_death_and_decedents_status']\n",
        "sns.histplot(place_of_death_and_decedents_status, bins=9, color='skyblue', edgecolor='black')\n",
        "plt.xlabel('Value')\n",
        "plt.ylabel('Frequency')\n",
        "plt.title('Histogram of place_of_death_and_decedents_status')\n",
        "plt.show()"
      ]
    },
    {
      "cell_type": "code",
      "execution_count": null,
      "metadata": {
        "id": "23HSPfMoNI-s"
      },
      "outputs": [],
      "source": [
        "marital_status = sampled_df['marital_status']\n",
        "sns.histplot(marital_status, bins=5, color='skyblue', edgecolor='black')\n",
        "plt.xlabel('Value')\n",
        "plt.ylabel('Frequency')\n",
        "plt.title('marital_status')\n",
        "plt.show()"
      ]
    },
    {
      "cell_type": "code",
      "execution_count": null,
      "metadata": {
        "id": "E23Kb14hNI2o"
      },
      "outputs": [],
      "source": [
        "day_of_week_of_death = sampled_df['day_of_week_of_death']\n",
        "sns.histplot(day_of_week_of_death, bins=8, color='skyblue', edgecolor='black')\n",
        "plt.xlabel('Value')\n",
        "plt.ylabel('Frequency')\n",
        "plt.title('day_of_week_of_death')\n",
        "plt.show()"
      ]
    },
    {
      "cell_type": "code",
      "execution_count": null,
      "metadata": {
        "id": "2kLFkfOEOso9"
      },
      "outputs": [],
      "source": [
        "injury_at_work = sampled_df['injury_at_work']\n",
        "sns.histplot(injury_at_work, bins=3, color='skyblue', edgecolor='black')\n",
        "plt.xlabel('Value')\n",
        "plt.ylabel('Frequency')\n",
        "plt.title('injury_at_work')\n",
        "plt.show()"
      ]
    },
    {
      "cell_type": "code",
      "execution_count": null,
      "metadata": {
        "id": "UuLrmKSvOsmM"
      },
      "outputs": [],
      "source": [
        "method_of_disposition = sampled_df['method_of_disposition']\n",
        "sns.histplot(method_of_disposition, bins=7, color='skyblue', edgecolor='black')\n",
        "plt.xlabel('Value')\n",
        "plt.ylabel('Frequency')\n",
        "plt.title('method_of_disposition')\n",
        "plt.show()"
      ]
    },
    {
      "cell_type": "code",
      "execution_count": null,
      "metadata": {
        "id": "OkQmz4IEOsjX"
      },
      "outputs": [],
      "source": [
        "autopsy = sampled_df['autopsy']\n",
        "sns.histplot(autopsy, bins=3, color='skyblue', edgecolor='black')\n",
        "plt.xlabel('Value')\n",
        "plt.ylabel('Frequency')\n",
        "plt.title('autopsy')\n",
        "plt.show()"
      ]
    },
    {
      "cell_type": "code",
      "execution_count": null,
      "metadata": {
        "id": "2pBwho9jOsgT"
      },
      "outputs": [],
      "source": [
        "icd_code_10th_revision = sampled_df['icd_code_10th_revision']\n",
        "sns.histplot(icd_code_10th_revision, bins=25, color='skyblue', edgecolor='black')\n",
        "plt.xlabel('Value')\n",
        "plt.ylabel('Frequency')\n",
        "plt.title('icd_code_10th_revision')\n",
        "plt.show()"
      ]
    },
    {
      "cell_type": "code",
      "execution_count": null,
      "metadata": {
        "id": "zcs8TrR3OsdZ"
      },
      "outputs": [],
      "source": [
        "cause_recode358 = sampled_df['358_cause_recode']\n",
        "sns.histplot(cause_recode358, bins=25, color='skyblue', edgecolor='black')\n",
        "plt.xlabel('Value')\n",
        "plt.ylabel('Frequency')\n",
        "plt.title('358_cause_recode')\n",
        "plt.show()"
      ]
    },
    {
      "cell_type": "code",
      "execution_count": null,
      "metadata": {
        "id": "2dc1YWb7Osau"
      },
      "outputs": [],
      "source": [
        "cause_recode113 = sampled_df['113_cause_recode']\n",
        "sns.histplot(cause_recode113, bins=25, color='skyblue', edgecolor='black')\n",
        "plt.xlabel('Value')\n",
        "plt.ylabel('Frequency')\n",
        "plt.title('113_cause_recode')\n",
        "plt.show()"
      ]
    },
    {
      "cell_type": "code",
      "execution_count": null,
      "metadata": {
        "id": "AXIwaXFXOsXy"
      },
      "outputs": [],
      "source": [
        "cause_recode39 = sampled_df['39_cause_recode']\n",
        "sns.histplot(cause_recode39, bins=25, color='skyblue', edgecolor='black')\n",
        "plt.xlabel('Value')\n",
        "plt.ylabel('Frequency')\n",
        "plt.title('39_cause_recode')\n",
        "plt.show()"
      ]
    },
    {
      "cell_type": "code",
      "execution_count": null,
      "metadata": {
        "id": "mPYE8VG0Phr4"
      },
      "outputs": [],
      "source": [
        "race = sampled_df['race']\n",
        "sns.histplot(race, bins=5, color='skyblue', edgecolor='black')\n",
        "plt.xlabel('Value')\n",
        "plt.ylabel('Frequency')\n",
        "plt.title('race')\n",
        "plt.show()"
      ]
    },
    {
      "cell_type": "code",
      "execution_count": null,
      "metadata": {
        "id": "Z_9G5iwcPhi-"
      },
      "outputs": [],
      "source": [
        "detail_age = sampled_df['detail_age']\n",
        "sns.histplot(detail_age, bins=25, color='skyblue', edgecolor='black')\n",
        "plt.xlabel('Value')\n",
        "plt.ylabel('Frequency')\n",
        "plt.title('detail_age')\n",
        "plt.show()"
      ]
    },
    {
      "cell_type": "code",
      "execution_count": null,
      "metadata": {
        "id": "z6Q3z0tSPhfs"
      },
      "outputs": [],
      "source": [
        "manner_of_death = sampled_df['manner_of_death']\n",
        "sns.histplot(manner_of_death, bins=7, color='skyblue', edgecolor='black')\n",
        "plt.xlabel('Value')\n",
        "plt.ylabel('Frequency')\n",
        "plt.title('manner_of_death')\n",
        "plt.show()"
      ]
    },
    {
      "cell_type": "markdown",
      "metadata": {
        "id": "_B08gmaOv37q"
      },
      "source": [
        "### Correlations"
      ]
    },
    {
      "cell_type": "code",
      "source": [
        "sampled_df = sampled_df.dropna()"
      ],
      "metadata": {
        "id": "IheGO6c2zOhO"
      },
      "execution_count": null,
      "outputs": []
    },
    {
      "cell_type": "code",
      "source": [
        "# pip install prince\n",
        "import prince"
      ],
      "metadata": {
        "id": "f8u4gRCwy4Lr"
      },
      "execution_count": null,
      "outputs": []
    },
    {
      "cell_type": "code",
      "source": [
        "for column in sampled_df.columns:\n",
        "    sampled_df[column] = pd.Categorical(sampled_df[column]).codes\n",
        "\n",
        "# Perform MCA\n",
        "mca = prince.MCA(n_components=16)\n",
        "mca.fit(sampled_df)\n",
        "\n",
        "# Access the eigenvalues and calculate the explained variance ratio\n",
        "eigenvalues = mca.eigenvalues_\n",
        "total_variance = sum(eigenvalues)\n",
        "explained_variance_ratio = eigenvalues / total_variance\n",
        "\n",
        "# Access the results\n",
        "print(\"Eigenvalues:\")\n",
        "print(mca.eigenvalues_)\n",
        "\n",
        "\n",
        "print(\"\\nExplained Variance Ratio:\")\n",
        "print(explained_variance_ratio)\n",
        "\n",
        "\n",
        "print(\"\\nPrincipal Coordinates:\")\n",
        "print(mca.row_coordinates(sampled_df))  # Coordinates of rows (observations)\n",
        "print(mca.column_coordinates(sampled_df))  # Coordinates of columns (categories)\n"
      ],
      "metadata": {
        "id": "zPYUAfJJ0nas"
      },
      "execution_count": null,
      "outputs": []
    },
    {
      "cell_type": "code",
      "source": [
        "# Plot MCA results\n",
        "plt.figure(figsize=(10, 6))\n",
        "plt.scatter(mca.row_coordinates(sampled_df).iloc[:, 0], mca.row_coordinates(sampled_df).iloc[:, 1], label='Rows')\n",
        "plt.scatter(mca.column_coordinates(sampled_df).iloc[:, 0], mca.column_coordinates(sampled_df).iloc[:, 1], label='Columns')\n",
        "plt.xlabel('Dimension 1')\n",
        "plt.ylabel('Dimension 2')\n",
        "plt.legend()\n",
        "plt.title('MCA Results')\n",
        "plt.grid()\n",
        "plt.show()"
      ],
      "metadata": {
        "id": "YZwn_R6t05Tc"
      },
      "execution_count": null,
      "outputs": []
    },
    {
      "cell_type": "code",
      "source": [
        "\n",
        "# import matplotlib.pyplot as plt\n",
        "# !pip install pandas scipy\n",
        "from scipy.stats import chi2_contingency\n",
        "\n",
        "\n",
        "\n"
      ],
      "metadata": {
        "id": "OHguuimrxHTY"
      },
      "execution_count": null,
      "outputs": []
    },
    {
      "cell_type": "code",
      "source": [
        "# Convert the categorical data to numerical labels (optional if already numeric)\n",
        "for column in sampled_df.columns:\n",
        "    sampled_df[column] = pd.Categorical(sampled_df[column]).codes\n",
        "\n",
        "# Calculate Cramér's V\n",
        "def cramers_v(confusion_matrix):\n",
        "    chi2 = chi2_contingency(confusion_matrix)[0]\n",
        "    n = confusion_matrix.sum().sum()\n",
        "    phi2 = chi2 / n\n",
        "    r, k = confusion_matrix.shape\n",
        "    phi2corr = max(0, phi2 - ((k - 1) * (r - 1)) / (n - 1))\n",
        "    rcorr = r - ((r - 1) ** 2) / (n - 1)\n",
        "    kcorr = k - ((k - 1) ** 2) / (n - 1)\n",
        "    return np.sqrt(phi2corr / min((kcorr - 1), (rcorr - 1)))\n",
        "\n",
        "# Create a contingency table for the two categorical variables\n",
        "confusion_matrix = pd.crosstab(sampled_df['manner_of_death'], sampled_df['detail_age'])\n",
        "\n",
        "# Calculate Cramér's V\n",
        "cramers_v_value = cramers_v(confusion_matrix)\n",
        "print(\"Cramér's V:\", cramers_v_value)"
      ],
      "metadata": {
        "id": "iCI_LqWd4bm4"
      },
      "execution_count": null,
      "outputs": []
    },
    {
      "cell_type": "code",
      "source": [
        "# Calculate Cramér's V\n",
        "def cramers_v(confusion_matrix):\n",
        "    chi2 = chi2_contingency(confusion_matrix)[0]\n",
        "    n = confusion_matrix.sum().sum()\n",
        "    phi2 = chi2 / n\n",
        "    r, k = confusion_matrix.shape\n",
        "    phi2corr = max(0, phi2 - ((k - 1) * (r - 1)) / (n - 1))\n",
        "    rcorr = r - ((r - 1) ** 2) / (n - 1)\n",
        "    kcorr = k - ((k - 1) ** 2) / (n - 1)\n",
        "    return np.sqrt(phi2corr / min((kcorr - 1), (rcorr - 1)))\n",
        "\n",
        "# Create a contingency table for the two categorical variables\n",
        "confusion_matrix = pd.crosstab(sampled_df['manner_of_death'], sampled_df['race'])\n",
        "\n",
        "# Calculate Cramér's V\n",
        "cramers_v_value = cramers_v(confusion_matrix)\n",
        "print(\"Cramér's V:\", cramers_v_value)"
      ],
      "metadata": {
        "id": "8wRE-VY44tSY"
      },
      "execution_count": null,
      "outputs": []
    },
    {
      "cell_type": "code",
      "source": [
        "# Calculate Cramér's V\n",
        "def cramers_v(confusion_matrix):\n",
        "    chi2 = chi2_contingency(confusion_matrix)[0]\n",
        "    n = confusion_matrix.sum().sum()\n",
        "    phi2 = chi2 / n\n",
        "    r, k = confusion_matrix.shape\n",
        "    phi2corr = max(0, phi2 - ((k - 1) * (r - 1)) / (n - 1))\n",
        "    rcorr = r - ((r - 1) ** 2) / (n - 1)\n",
        "    kcorr = k - ((k - 1) ** 2) / (n - 1)\n",
        "    return np.sqrt(phi2corr / min((kcorr - 1), (rcorr - 1)))\n",
        "\n",
        "# Create a contingency table for the two categorical variables\n",
        "confusion_matrix = pd.crosstab(sampled_df['manner_of_death'], sampled_df['sex'])\n",
        "\n",
        "# Calculate Cramér's V\n",
        "cramers_v_value = cramers_v(confusion_matrix)\n",
        "print(\"Cramér's V:\", cramers_v_value)"
      ],
      "metadata": {
        "id": "SekwW8nk5AR6"
      },
      "execution_count": null,
      "outputs": []
    },
    {
      "cell_type": "code",
      "source": [
        "# Calculate Cramér's V\n",
        "def cramers_v(confusion_matrix):\n",
        "    chi2 = chi2_contingency(confusion_matrix)[0]\n",
        "    n = confusion_matrix.sum().sum()\n",
        "    phi2 = chi2 / n\n",
        "    r, k = confusion_matrix.shape\n",
        "    phi2corr = max(0, phi2 - ((k - 1) * (r - 1)) / (n - 1))\n",
        "    rcorr = r - ((r - 1) ** 2) / (n - 1)\n",
        "    kcorr = k - ((k - 1) ** 2) / (n - 1)\n",
        "    return np.sqrt(phi2corr / min((kcorr - 1), (rcorr - 1)))\n",
        "\n",
        "# Create a contingency table for the two categorical variables\n",
        "confusion_matrix = pd.crosstab(sampled_df['manner_of_death'], sampled_df['autopsy'])\n",
        "\n",
        "# Calculate Cramér's V\n",
        "cramers_v_value = cramers_v(confusion_matrix)\n",
        "print(\"Cramér's V:\", cramers_v_value)"
      ],
      "metadata": {
        "id": "ZZKa7wg85tZw"
      },
      "execution_count": null,
      "outputs": []
    },
    {
      "cell_type": "code",
      "source": [
        "# Calculate Cramér's V\n",
        "def cramers_v(confusion_matrix):\n",
        "    chi2 = chi2_contingency(confusion_matrix)[0]\n",
        "    n = confusion_matrix.sum().sum()\n",
        "    phi2 = chi2 / n\n",
        "    r, k = confusion_matrix.shape\n",
        "    phi2corr = max(0, phi2 - ((k - 1) * (r - 1)) / (n - 1))\n",
        "    rcorr = r - ((r - 1) ** 2) / (n - 1)\n",
        "    kcorr = k - ((k - 1) ** 2) / (n - 1)\n",
        "    return np.sqrt(phi2corr / min((kcorr - 1), (rcorr - 1)))\n",
        "\n",
        "# Create a contingency table for the two categorical variables\n",
        "confusion_matrix = pd.crosstab(sampled_df['manner_of_death'], sampled_df['marital_status'])\n",
        "\n",
        "# Calculate Cramér's V\n",
        "cramers_v_value = cramers_v(confusion_matrix)\n",
        "print(\"Cramér's V:\", cramers_v_value)"
      ],
      "metadata": {
        "id": "HtlUdWV85wpD"
      },
      "execution_count": null,
      "outputs": []
    },
    {
      "cell_type": "code",
      "source": [
        "# Calculate Cramér's V\n",
        "def cramers_v(confusion_matrix):\n",
        "    chi2 = chi2_contingency(confusion_matrix)[0]\n",
        "    n = confusion_matrix.sum().sum()\n",
        "    phi2 = chi2 / n\n",
        "    r, k = confusion_matrix.shape\n",
        "    phi2corr = max(0, phi2 - ((k - 1) * (r - 1)) / (n - 1))\n",
        "    rcorr = r - ((r - 1) ** 2) / (n - 1)\n",
        "    kcorr = k - ((k - 1) ** 2) / (n - 1)\n",
        "    return np.sqrt(phi2corr / min((kcorr - 1), (rcorr - 1)))\n",
        "\n",
        "# Create a contingency table for the two categorical variables\n",
        "confusion_matrix = pd.crosstab(sampled_df['manner_of_death'], sampled_df['month_of_death'])\n",
        "\n",
        "# Calculate Cramér's V\n",
        "cramers_v_value = cramers_v(confusion_matrix)\n",
        "print(\"Cramér's V:\", cramers_v_value)"
      ],
      "metadata": {
        "id": "GF1vjuSZ52ht"
      },
      "execution_count": null,
      "outputs": []
    },
    {
      "cell_type": "code",
      "source": [
        "# Calculate Cramér's V\n",
        "def cramers_v(confusion_matrix):\n",
        "    chi2 = chi2_contingency(confusion_matrix)[0]\n",
        "    n = confusion_matrix.sum().sum()\n",
        "    phi2 = chi2 / n\n",
        "    r, k = confusion_matrix.shape\n",
        "    phi2corr = max(0, phi2 - ((k - 1) * (r - 1)) / (n - 1))\n",
        "    rcorr = r - ((r - 1) ** 2) / (n - 1)\n",
        "    kcorr = k - ((k - 1) ** 2) / (n - 1)\n",
        "    return np.sqrt(phi2corr / min((kcorr - 1), (rcorr - 1)))\n",
        "\n",
        "# Create a contingency table for the two categorical variables\n",
        "confusion_matrix = pd.crosstab(sampled_df['manner_of_death'], sampled_df['education_2003_revision'])\n",
        "\n",
        "# Calculate Cramér's V\n",
        "cramers_v_value = cramers_v(confusion_matrix)\n",
        "print(\"Cramér's V:\", cramers_v_value)"
      ],
      "metadata": {
        "id": "MvyfD5m859NX"
      },
      "execution_count": null,
      "outputs": []
    },
    {
      "cell_type": "code",
      "source": [
        "# Calculate Cramér's V\n",
        "def cramers_v(confusion_matrix):\n",
        "    chi2 = chi2_contingency(confusion_matrix)[0]\n",
        "    n = confusion_matrix.sum().sum()\n",
        "    phi2 = chi2 / n\n",
        "    r, k = confusion_matrix.shape\n",
        "    phi2corr = max(0, phi2 - ((k - 1) * (r - 1)) / (n - 1))\n",
        "    rcorr = r - ((r - 1) ** 2) / (n - 1)\n",
        "    kcorr = k - ((k - 1) ** 2) / (n - 1)\n",
        "    return np.sqrt(phi2corr / min((kcorr - 1), (rcorr - 1)))\n",
        "\n",
        "# Create a contingency table for the two categorical variables\n",
        "confusion_matrix = pd.crosstab(sampled_df['manner_of_death'], sampled_df['day_of_week_of_death'])\n",
        "\n",
        "# Calculate Cramér's V\n",
        "cramers_v_value = cramers_v(confusion_matrix)\n",
        "print(\"Cramér's V:\", cramers_v_value)"
      ],
      "metadata": {
        "id": "tcte8g3y6GNZ"
      },
      "execution_count": null,
      "outputs": []
    },
    {
      "cell_type": "code",
      "source": [
        "# Calculate Cramér's V\n",
        "def cramers_v(confusion_matrix):\n",
        "    chi2 = chi2_contingency(confusion_matrix)[0]\n",
        "    n = confusion_matrix.sum().sum()\n",
        "    phi2 = chi2 / n\n",
        "    r, k = confusion_matrix.shape\n",
        "    phi2corr = max(0, phi2 - ((k - 1) * (r - 1)) / (n - 1))\n",
        "    rcorr = r - ((r - 1) ** 2) / (n - 1)\n",
        "    kcorr = k - ((k - 1) ** 2) / (n - 1)\n",
        "    return np.sqrt(phi2corr / min((kcorr - 1), (rcorr - 1)))\n",
        "\n",
        "# Create a contingency table for the two categorical variables\n",
        "confusion_matrix = pd.crosstab(sampled_df['manner_of_death'], sampled_df['injury_at_work'])\n",
        "\n",
        "# Calculate Cramér's V\n",
        "cramers_v_value = cramers_v(confusion_matrix)\n",
        "print(\"Cramér's V:\", cramers_v_value)"
      ],
      "metadata": {
        "id": "xf9dScGh6QeV"
      },
      "execution_count": null,
      "outputs": []
    },
    {
      "cell_type": "code",
      "source": [
        "# Calculate Cramér's V\n",
        "def cramers_v(confusion_matrix):\n",
        "    chi2 = chi2_contingency(confusion_matrix)[0]\n",
        "    n = confusion_matrix.sum().sum()\n",
        "    phi2 = chi2 / n\n",
        "    r, k = confusion_matrix.shape\n",
        "    phi2corr = max(0, phi2 - ((k - 1) * (r - 1)) / (n - 1))\n",
        "    rcorr = r - ((r - 1) ** 2) / (n - 1)\n",
        "    kcorr = k - ((k - 1) ** 2) / (n - 1)\n",
        "    return np.sqrt(phi2corr / min((kcorr - 1), (rcorr - 1)))\n",
        "\n",
        "# Create a contingency table for the two categorical variables\n",
        "confusion_matrix = pd.crosstab(sampled_df['manner_of_death'], sampled_df['method_of_disposition'])\n",
        "\n",
        "# Calculate Cramér's V\n",
        "cramers_v_value = cramers_v(confusion_matrix)\n",
        "print(\"Cramér's V:\", cramers_v_value)"
      ],
      "metadata": {
        "id": "ihelzDJK6WjF"
      },
      "execution_count": null,
      "outputs": []
    },
    {
      "cell_type": "code",
      "source": [
        "# Calculate Cramér's V\n",
        "def cramers_v(confusion_matrix):\n",
        "    chi2 = chi2_contingency(confusion_matrix)[0]\n",
        "    n = confusion_matrix.sum().sum()\n",
        "    phi2 = chi2 / n\n",
        "    r, k = confusion_matrix.shape\n",
        "    phi2corr = max(0, phi2 - ((k - 1) * (r - 1)) / (n - 1))\n",
        "    rcorr = r - ((r - 1) ** 2) / (n - 1)\n",
        "    kcorr = k - ((k - 1) ** 2) / (n - 1)\n",
        "    return np.sqrt(phi2corr / min((kcorr - 1), (rcorr - 1)))\n",
        "\n",
        "# Create a contingency table for the two categorical variables\n",
        "confusion_matrix = pd.crosstab(sampled_df['manner_of_death'], sampled_df['injury_at_work'])\n",
        "\n",
        "# Calculate Cramér's V\n",
        "cramers_v_value = cramers_v(confusion_matrix)\n",
        "print(\"Cramér's V:\", cramers_v_value)"
      ],
      "metadata": {
        "id": "0y9ingtw6Wch"
      },
      "execution_count": null,
      "outputs": []
    },
    {
      "cell_type": "code",
      "source": [
        "# Plot MCA results\n",
        "plt.figure(figsize=(10, 6))\n",
        "\n",
        "# Scatter plot for rows with different colors\n",
        "row_coords = mca.row_coordinates(sampled_df)\n",
        "plt.scatter(row_coords.iloc[:, 0], row_coords.iloc[:, 1], c='blue', label='Rows')\n",
        "\n",
        "# Scatter plot for columns with different colors\n",
        "column_coords = mca.column_coordinates(sampled_df)\n",
        "num_categories = column_coords.shape[0]\n",
        "colors = plt.cm.tab20(np.arange(num_categories))  # Using tab20 colormap with 20 colors\n",
        "plt.scatter(column_coords.iloc[:, 0], column_coords.iloc[:, 1], c=colors, marker='D', label='Columns')\n",
        "\n",
        "plt.xlabel('Dimension 1')\n",
        "plt.ylabel('Dimension 2')\n",
        "plt.legend()\n",
        "plt.title('MCA Results')\n",
        "plt.grid()\n",
        "plt.show()"
      ],
      "metadata": {
        "id": "JPmNKIpExHH4"
      },
      "execution_count": null,
      "outputs": []
    },
    {
      "cell_type": "code",
      "source": [
        "\n"
      ],
      "metadata": {
        "id": "y1p_L5kpycde"
      },
      "execution_count": null,
      "outputs": []
    },
    {
      "cell_type": "code",
      "source": [],
      "metadata": {
        "id": "beYZtO_1ycL9"
      },
      "execution_count": null,
      "outputs": []
    },
    {
      "cell_type": "code",
      "execution_count": null,
      "metadata": {
        "id": "U6ctkBhLPhct"
      },
      "outputs": [],
      "source": [
        "# Correlation\n",
        "# numeric_columns = sampled_df.select_dtypes(include='number')\n",
        "# death_correlation_matrix = numeric_columns.corr()\n",
        "# print(death_correlation_matrix)"
      ]
    },
    {
      "cell_type": "code",
      "execution_count": null,
      "metadata": {
        "id": "eBFWJ_q2PhWt"
      },
      "outputs": [],
      "source": [
        "# Plot the correlation matrix as a heatmap\n",
        "# plt.figure(figsize=(10, 8))\n",
        "# sns.heatmap(death_correlation_matrix, annot=True, cmap='coolwarm', fmt='.2f', linewidths=0.5)\n",
        "# plt.title('Death Correlation Matrix')\n",
        "# plt.show()"
      ]
    },
    {
      "cell_type": "markdown",
      "source": [
        "# **Data Mining: Artificial Neural Network**"
      ],
      "metadata": {
        "id": "UIUrmXSV9yos"
      }
    },
    {
      "cell_type": "code",
      "source": [
        "# import packages\n",
        "import pandas as pd\n",
        "import networkx as nx\n",
        "import matplotlib.pyplot as plt\n",
        "from sklearn.model_selection import train_test_split\n",
        "from tensorflow import keras\n",
        "from tensorflow.keras import layers\n",
        "from tensorflow.keras.utils import plot_model\n",
        "from tensorflow.keras.layers import Dropout\n",
        "import tensorflow as tf"
      ],
      "metadata": {
        "id": "dS90ueYN-L8K"
      },
      "execution_count": 70,
      "outputs": []
    },
    {
      "cell_type": "code",
      "source": [
        "# drop encoded columns from encoded_df\n",
        "encoded_df_colstodrop = ['icd_code_10th_revision', '358_cause_recode', '113_cause_recode', '39_cause_recode']\n",
        "\n",
        "encoded_df_drop = encoded_df.drop(columns=encoded_df_colstodrop)\n",
        "print(encoded_df_drop.head())"
      ],
      "metadata": {
        "id": "IpZi_1_8aJTt",
        "outputId": "eaf39452-f4c6-4fbf-e57b-1352caa8d594",
        "colab": {
          "base_uri": "https://localhost:8080/"
        }
      },
      "execution_count": 89,
      "outputs": [
        {
          "output_type": "stream",
          "name": "stdout",
          "text": [
            "      manner_of_death  detail_age  education_2003_revision_1.0  \\\n",
            "64875             0.0          77                            0   \n",
            "61082             0.0          91                            0   \n",
            "63792             0.0          90                            0   \n",
            "55219             0.0          68                            0   \n",
            "183               0.0          72                            0   \n",
            "\n",
            "       education_2003_revision_2.0  education_2003_revision_3.0  \\\n",
            "64875                            1                            0   \n",
            "61082                            0                            1   \n",
            "63792                            0                            0   \n",
            "55219                            0                            0   \n",
            "183                              0                            0   \n",
            "\n",
            "       education_2003_revision_4.0  education_2003_revision_5.0  \\\n",
            "64875                            0                            0   \n",
            "61082                            0                            0   \n",
            "63792                            0                            1   \n",
            "55219                            0                            0   \n",
            "183                              0                            1   \n",
            "\n",
            "       education_2003_revision_6.0  education_2003_revision_7.0  \\\n",
            "64875                            0                            0   \n",
            "61082                            0                            0   \n",
            "63792                            0                            0   \n",
            "55219                            1                            0   \n",
            "183                              0                            0   \n",
            "\n",
            "       education_2003_revision_8.0  ...  race_5.0  race_6.0  race_7.0  \\\n",
            "64875                            0  ...         0         0         0   \n",
            "61082                            0  ...         0         0         0   \n",
            "63792                            0  ...         0         0         0   \n",
            "55219                            0  ...         0         1         0   \n",
            "183                              0  ...         0         0         0   \n",
            "\n",
            "       race_18.0  race_28.0  race_38.0  race_48.0  race_58.0  race_68.0  \\\n",
            "64875          0          0          0          0          0          0   \n",
            "61082          0          0          0          0          0          0   \n",
            "63792          0          0          0          0          0          0   \n",
            "55219          0          0          0          0          0          0   \n",
            "183            0          0          0          0          0          0   \n",
            "\n",
            "       race_78.0  \n",
            "64875          0  \n",
            "61082          0  \n",
            "63792          0  \n",
            "55219          0  \n",
            "183            0  \n",
            "\n",
            "[5 rows x 72 columns]\n"
          ]
        }
      ]
    },
    {
      "cell_type": "code",
      "source": [
        "# select features for model\n",
        "selected_features = [col for col in encoded_df_drop.columns if col != 'manner_of_death']\n",
        "\n",
        "target_variable = 'manner_of_death'"
      ],
      "metadata": {
        "id": "bUdTnt4mAQ6-"
      },
      "execution_count": 90,
      "outputs": []
    },
    {
      "cell_type": "code",
      "source": [
        "# select X and y variables\n",
        "X = encoded_df_drop[selected_features]\n",
        "y = encoded_df_drop[target_variable]"
      ],
      "metadata": {
        "id": "HYZ35zsQBdKo"
      },
      "execution_count": 91,
      "outputs": []
    },
    {
      "cell_type": "code",
      "source": [
        "# split data\n",
        "X_train, X_test, y_train, y_test = train_test_split(X, y, test_size=0.3, random_state=42)"
      ],
      "metadata": {
        "id": "lXWxZqYtBp7M"
      },
      "execution_count": 92,
      "outputs": []
    },
    {
      "cell_type": "markdown",
      "source": [
        "# Basic ANN Model withOUT Hidden Layers"
      ],
      "metadata": {
        "id": "2OGxXSt0JIKo"
      }
    },
    {
      "cell_type": "code",
      "source": [
        "# build the ANN model\n",
        "model_nolay = keras.Sequential([\n",
        "    layers.Dense(1, activation='sigmoid', input_shape=(X_train.shape[1],))\n",
        "])\n",
        "\n",
        "# compile the model\n",
        "model_nolay.compile(optimizer='adam', loss='binary_crossentropy', metrics=['accuracy'])"
      ],
      "metadata": {
        "id": "9RR2UuS3JN5o"
      },
      "execution_count": 93,
      "outputs": []
    },
    {
      "cell_type": "code",
      "source": [
        "# train the model\n",
        "model_nolay.fit(X_train, y_train, epochs=10, batch_size=32)"
      ],
      "metadata": {
        "colab": {
          "base_uri": "https://localhost:8080/"
        },
        "id": "yKehTStCJOHJ",
        "outputId": "1b6ae1b0-22a0-4f3a-f904-c2f637528469"
      },
      "execution_count": 94,
      "outputs": [
        {
          "output_type": "stream",
          "name": "stdout",
          "text": [
            "Epoch 1/10\n",
            "37/37 [==============================] - 1s 3ms/step - loss: 0.0429 - accuracy: 0.9949\n",
            "Epoch 2/10\n",
            "37/37 [==============================] - 0s 3ms/step - loss: 0.0274 - accuracy: 0.9949\n",
            "Epoch 3/10\n",
            "37/37 [==============================] - 0s 2ms/step - loss: 0.0259 - accuracy: 0.9949\n",
            "Epoch 4/10\n",
            "37/37 [==============================] - 0s 2ms/step - loss: 0.0256 - accuracy: 0.9949\n",
            "Epoch 5/10\n",
            "37/37 [==============================] - 0s 2ms/step - loss: 0.0252 - accuracy: 0.9949\n",
            "Epoch 6/10\n",
            "37/37 [==============================] - 0s 3ms/step - loss: 0.0251 - accuracy: 0.9949\n",
            "Epoch 7/10\n",
            "37/37 [==============================] - 0s 3ms/step - loss: 0.0251 - accuracy: 0.9949\n",
            "Epoch 8/10\n",
            "37/37 [==============================] - 0s 2ms/step - loss: 0.0249 - accuracy: 0.9949\n",
            "Epoch 9/10\n",
            "37/37 [==============================] - 0s 2ms/step - loss: 0.0243 - accuracy: 0.9949\n",
            "Epoch 10/10\n",
            "37/37 [==============================] - 0s 3ms/step - loss: 0.0242 - accuracy: 0.9949\n"
          ]
        },
        {
          "output_type": "execute_result",
          "data": {
            "text/plain": [
              "<keras.callbacks.History at 0x7b6336127be0>"
            ]
          },
          "metadata": {},
          "execution_count": 94
        }
      ]
    },
    {
      "cell_type": "code",
      "source": [
        "# evaluate the model\n",
        "loss_nolay, accuracy_nolay = model_nolay.evaluate(X_test, y_test)\n",
        "print(f\"Test accuracy (Model_nolay): {accuracy_nolay}\")"
      ],
      "metadata": {
        "colab": {
          "base_uri": "https://localhost:8080/"
        },
        "id": "SfbNmDlhJOQy",
        "outputId": "14621f13-8084-4974-9097-25d3fae40a2f"
      },
      "execution_count": 96,
      "outputs": [
        {
          "output_type": "stream",
          "name": "stdout",
          "text": [
            "16/16 [==============================] - 0s 2ms/step - loss: 0.0369 - accuracy: 0.9921\n",
            "Test accuracy (Model_nolay): 0.9921104311943054\n"
          ]
        }
      ]
    },
    {
      "cell_type": "markdown",
      "source": [
        "# Basic ANN Model with Hidden Layers"
      ],
      "metadata": {
        "id": "ho6Qe7UwE2rD"
      }
    },
    {
      "cell_type": "code",
      "source": [
        "# build the ANN model --> 3 hidden layers, 64 neurons on 1st, 32 neurons on 2nd, and 1 output neuron on last\n",
        "model_lay = keras.Sequential([\n",
        "    layers.Dense(64, activation='relu', input_shape=(X_train.shape[1],)),\n",
        "    layers.Dense(32, activation='relu'),\n",
        "    layers.Dense(1, activation='sigmoid')\n",
        "])\n",
        "\n",
        "# Compile the model\n",
        "model_lay.compile(optimizer='adam', loss='binary_crossentropy', metrics=['accuracy'])"
      ],
      "metadata": {
        "id": "PCO1rqBqBzl7"
      },
      "execution_count": 97,
      "outputs": []
    },
    {
      "cell_type": "code",
      "source": [
        "# train the ANN model\n",
        "model_lay.fit(X_train, y_train, epochs=10, batch_size=32)"
      ],
      "metadata": {
        "colab": {
          "base_uri": "https://localhost:8080/"
        },
        "id": "6LunPpyYCKmN",
        "outputId": "df002899-2ff3-4ace-d79d-e257c67d1953"
      },
      "execution_count": 98,
      "outputs": [
        {
          "output_type": "stream",
          "name": "stdout",
          "text": [
            "Epoch 1/10\n",
            "37/37 [==============================] - 2s 5ms/step - loss: 0.0368 - accuracy: 0.9949\n",
            "Epoch 2/10\n",
            "37/37 [==============================] - 0s 5ms/step - loss: 0.0288 - accuracy: 0.9949\n",
            "Epoch 3/10\n",
            "37/37 [==============================] - 0s 4ms/step - loss: 0.0287 - accuracy: 0.9949\n",
            "Epoch 4/10\n",
            "37/37 [==============================] - 0s 3ms/step - loss: 0.0253 - accuracy: 0.9949\n",
            "Epoch 5/10\n",
            "37/37 [==============================] - 0s 3ms/step - loss: 0.0238 - accuracy: 0.9949\n",
            "Epoch 6/10\n",
            "37/37 [==============================] - 0s 3ms/step - loss: 0.0257 - accuracy: 0.9949\n",
            "Epoch 7/10\n",
            "37/37 [==============================] - 0s 3ms/step - loss: 0.0204 - accuracy: 0.9949\n",
            "Epoch 8/10\n",
            "37/37 [==============================] - 0s 3ms/step - loss: 0.0193 - accuracy: 0.9949\n",
            "Epoch 9/10\n",
            "37/37 [==============================] - 0s 3ms/step - loss: 0.0175 - accuracy: 0.9949\n",
            "Epoch 10/10\n",
            "37/37 [==============================] - 0s 3ms/step - loss: 0.0153 - accuracy: 0.9958\n"
          ]
        },
        {
          "output_type": "execute_result",
          "data": {
            "text/plain": [
              "<keras.callbacks.History at 0x7b63347aa7a0>"
            ]
          },
          "metadata": {},
          "execution_count": 98
        }
      ]
    },
    {
      "cell_type": "code",
      "source": [
        "# evaluate the model\n",
        "loss_lay, accuracy_lay = model_lay.evaluate(X_test, y_test)\n",
        "print(f\"Test accuracy: {accuracy_lay}\")"
      ],
      "metadata": {
        "colab": {
          "base_uri": "https://localhost:8080/"
        },
        "id": "v4-31W27CUrc",
        "outputId": "7a230c77-c4dd-420e-dfaa-aed82a5487d4"
      },
      "execution_count": 99,
      "outputs": [
        {
          "output_type": "stream",
          "name": "stdout",
          "text": [
            "16/16 [==============================] - 0s 2ms/step - loss: 0.0250 - accuracy: 0.9921\n",
            "Test accuracy: 0.9921104311943054\n"
          ]
        }
      ]
    },
    {
      "cell_type": "code",
      "source": [
        "# visualize the ANN model\n",
        "def visualize_model(model_lay):\n",
        "    G = nx.DiGraph()\n",
        "    node_labels = {}\n",
        "    for i, layer in enumerate(model_lay.layers):\n",
        "        layer_name = f'{layer.name}\\n{layer.output_shape}'\n",
        "        node_labels[i] = layer_name\n",
        "        G.add_node(layer_name)\n",
        "        if i > 0:\n",
        "            G.add_edge(node_labels[i - 1], layer_name)\n",
        "\n",
        "    pos = nx.spring_layout(G, seed=42)\n",
        "    plt.figure(figsize=(10, 6))\n",
        "    nx.draw(G, pos, with_labels=True, node_size=2000, node_color='skyblue', font_size=10, font_weight='bold')\n",
        "    plt.title(\"Neural Network Model Architecture\")\n",
        "    plt.savefig('model_visualization.png', format='png', dpi=300, bbox_inches='tight')\n",
        "    plt.show()\n",
        "\n",
        "# Call the function to visualize the model\n",
        "visualize_model(model_lay)"
      ],
      "metadata": {
        "colab": {
          "base_uri": "https://localhost:8080/",
          "height": 659
        },
        "id": "R2ejUBQCDFMq",
        "outputId": "2bb39cf6-1a16-41ca-c683-db04578be2d8"
      },
      "execution_count": 101,
      "outputs": [
        {
          "output_type": "display_data",
          "data": {
            "text/plain": [
              "<Figure size 1000x600 with 1 Axes>"
            ],
            "image/png": "[encoded data removed]"
          },
          "metadata": {}
        }
      ]
    },
    {
      "cell_type": "markdown",
      "source": [
        "# ANN Model w/ Reduced Complexity (Reduced amount of hidden layers)"
      ],
      "metadata": {
        "id": "QMmDdSZoE8KU"
      }
    },
    {
      "cell_type": "code",
      "source": [
        "# build model with reduced complexity --> 3 hidden layers, 32 neurons on 1st, 16 neurons on 2nd, and 1 output neuron on last\n",
        "model_red = keras.Sequential([\n",
        "    layers.Dense(32, activation='relu', input_shape=(X_train.shape[1],)),\n",
        "    layers.Dense(16, activation='relu'),\n",
        "    layers.Dense(1, activation='sigmoid')\n",
        "])\n",
        "\n",
        "# compile the model\n",
        "model_red.compile(optimizer='adam', loss='binary_crossentropy', metrics=['accuracy'])"
      ],
      "metadata": {
        "id": "V0cp80-sFBZg"
      },
      "execution_count": 102,
      "outputs": []
    },
    {
      "cell_type": "code",
      "source": [
        "# train the model with reduced complexity\n",
        "model_red.fit(X_train, y_train, epochs=10, batch_size=32)"
      ],
      "metadata": {
        "colab": {
          "base_uri": "https://localhost:8080/"
        },
        "id": "NdvEVypTFdGi",
        "outputId": "08c41159-f9eb-4480-e05a-7163ff7ca0a9"
      },
      "execution_count": 103,
      "outputs": [
        {
          "output_type": "stream",
          "name": "stdout",
          "text": [
            "Epoch 1/10\n",
            "37/37 [==============================] - 1s 3ms/step - loss: 1.2358 - accuracy: 0.6763\n",
            "Epoch 2/10\n",
            "37/37 [==============================] - 0s 3ms/step - loss: 0.0267 - accuracy: 0.9949\n",
            "Epoch 3/10\n",
            "37/37 [==============================] - 0s 3ms/step - loss: 0.0268 - accuracy: 0.9949\n",
            "Epoch 4/10\n",
            "37/37 [==============================] - 0s 3ms/step - loss: 0.0267 - accuracy: 0.9949\n",
            "Epoch 5/10\n",
            "37/37 [==============================] - 0s 2ms/step - loss: 0.0264 - accuracy: 0.9949\n",
            "Epoch 6/10\n",
            "37/37 [==============================] - 0s 3ms/step - loss: 0.0261 - accuracy: 0.9949\n",
            "Epoch 7/10\n",
            "37/37 [==============================] - 0s 2ms/step - loss: 0.0258 - accuracy: 0.9949\n",
            "Epoch 8/10\n",
            "37/37 [==============================] - 0s 2ms/step - loss: 0.0257 - accuracy: 0.9949\n",
            "Epoch 9/10\n",
            "37/37 [==============================] - 0s 3ms/step - loss: 0.0254 - accuracy: 0.9949\n",
            "Epoch 10/10\n",
            "37/37 [==============================] - 0s 2ms/step - loss: 0.0252 - accuracy: 0.9949\n"
          ]
        },
        {
          "output_type": "execute_result",
          "data": {
            "text/plain": [
              "<keras.callbacks.History at 0x7b6334535ba0>"
            ]
          },
          "metadata": {},
          "execution_count": 103
        }
      ]
    },
    {
      "cell_type": "code",
      "source": [
        "# evaluate the model with reduced complexity\n",
        "loss_red, accuracy_red = model_red.evaluate(X_test, y_test)\n",
        "print(f\"Test accuracy: {accuracy_red}\")"
      ],
      "metadata": {
        "colab": {
          "base_uri": "https://localhost:8080/"
        },
        "id": "P81ir8MSFdJS",
        "outputId": "95017096-087d-458f-8a61-57f51c28cacb"
      },
      "execution_count": 104,
      "outputs": [
        {
          "output_type": "stream",
          "name": "stdout",
          "text": [
            "16/16 [==============================] - 0s 2ms/step - loss: 0.0363 - accuracy: 0.9921\n",
            "Test accuracy: 0.9921104311943054\n"
          ]
        }
      ]
    },
    {
      "cell_type": "code",
      "source": [
        "# visualize model with reduced complexity\n",
        "def visualize_model(model_red):\n",
        "    G = nx.DiGraph()\n",
        "    node_labels = {}\n",
        "    for i, layer in enumerate(model_red.layers):\n",
        "        layer_name = f'{layer.name}\\n{layer.output_shape}'\n",
        "        node_labels[i] = layer_name\n",
        "        G.add_node(layer_name)\n",
        "        if i > 0:\n",
        "            G.add_edge(node_labels[i - 1], layer_name)\n",
        "\n",
        "    pos = nx.spring_layout(G, seed=42)\n",
        "    plt.figure(figsize=(10, 6))\n",
        "    nx.draw(G, pos, with_labels=True, node_size=2000, node_color='skyblue', font_size=10, font_weight='bold')\n",
        "    plt.title(\"Neural Network Model Architecture (Reduced Complexity)\")\n",
        "    plt.savefig('model_red_visualization.png', format='png', dpi=300, bbox_inches='tight')\n",
        "    plt.show()\n",
        "\n",
        "# call function to visualize\n",
        "visualize_model(model_red)"
      ],
      "metadata": {
        "colab": {
          "base_uri": "https://localhost:8080/",
          "height": 659
        },
        "id": "7YTxkYomFdMk",
        "outputId": "8e52fc19-b697-46ba-c1af-3b7496909c80"
      },
      "execution_count": 106,
      "outputs": [
        {
          "output_type": "display_data",
          "data": {
            "text/plain": [
              "<Figure size 1000x600 with 1 Axes>"
            ],
            "image/png": "[encoded data removed]"
          },
          "metadata": {}
        }
      ]
    },
    {
      "cell_type": "markdown",
      "source": [
        "# ANN Model with Regularization"
      ],
      "metadata": {
        "id": "CTL5LSv9KYFv"
      }
    },
    {
      "cell_type": "code",
      "source": [
        "# build ANN the model with minimal hidden layers and dropout regularization (discussed in textbook)\n",
        "model_reg = keras.Sequential([\n",
        "    layers.Dense(16, activation='relu', input_shape=(X_train.shape[1],)),\n",
        "    Dropout(0.2),  # Dropout layer with 20% dropout rate\n",
        "    layers.Dense(1, activation='sigmoid')  # Binary classification, hence using 'sigmoid'\n",
        "])\n",
        "\n",
        "# Compile the model\n",
        "model_reg.compile(optimizer='adam', loss='binary_crossentropy', metrics=['accuracy'])"
      ],
      "metadata": {
        "id": "aULJQ06_FdRQ"
      },
      "execution_count": 107,
      "outputs": []
    },
    {
      "cell_type": "code",
      "source": [
        "# train model\n",
        "model_reg.fit(X_train, y_train, epochs=10, batch_size=32)"
      ],
      "metadata": {
        "colab": {
          "base_uri": "https://localhost:8080/"
        },
        "id": "jG9yztQkMDwu",
        "outputId": "b3d9482c-b2dd-48d0-f410-e93de11dbdf2"
      },
      "execution_count": 108,
      "outputs": [
        {
          "output_type": "stream",
          "name": "stdout",
          "text": [
            "Epoch 1/10\n",
            "37/37 [==============================] - 1s 3ms/step - loss: 14.4469 - accuracy: 0.0153\n",
            "Epoch 2/10\n",
            "37/37 [==============================] - 0s 2ms/step - loss: 7.3374 - accuracy: 0.0814\n",
            "Epoch 3/10\n",
            "37/37 [==============================] - 0s 2ms/step - loss: 1.9350 - accuracy: 0.5449\n",
            "Epoch 4/10\n",
            "37/37 [==============================] - 0s 2ms/step - loss: 0.4748 - accuracy: 0.8398\n",
            "Epoch 5/10\n",
            "37/37 [==============================] - 0s 2ms/step - loss: 0.3140 - accuracy: 0.9212\n",
            "Epoch 6/10\n",
            "37/37 [==============================] - 0s 2ms/step - loss: 0.2519 - accuracy: 0.9297\n",
            "Epoch 7/10\n",
            "37/37 [==============================] - 0s 2ms/step - loss: 0.1922 - accuracy: 0.9322\n",
            "Epoch 8/10\n",
            "37/37 [==============================] - 0s 2ms/step - loss: 0.1568 - accuracy: 0.9398\n",
            "Epoch 9/10\n",
            "37/37 [==============================] - 0s 3ms/step - loss: 0.1612 - accuracy: 0.9559\n",
            "Epoch 10/10\n",
            "37/37 [==============================] - 0s 3ms/step - loss: 0.1143 - accuracy: 0.9678\n"
          ]
        },
        {
          "output_type": "execute_result",
          "data": {
            "text/plain": [
              "<keras.callbacks.History at 0x7b633459e620>"
            ]
          },
          "metadata": {},
          "execution_count": 108
        }
      ]
    },
    {
      "cell_type": "code",
      "source": [
        "# evaluate model\n",
        "loss_reg, accuracy_reg = model_reg.evaluate(X_test, y_test)\n",
        "print(f\"Test accuracy (Model_reg): {accuracy_reg}\")"
      ],
      "metadata": {
        "colab": {
          "base_uri": "https://localhost:8080/"
        },
        "id": "fw0hovCuMI54",
        "outputId": "290782b6-4024-41dc-f0a8-c8ea4ebc2395"
      },
      "execution_count": 109,
      "outputs": [
        {
          "output_type": "stream",
          "name": "stdout",
          "text": [
            "16/16 [==============================] - 0s 2ms/step - loss: 0.0563 - accuracy: 0.9921\n",
            "Test accuracy (Model_reg): 0.9921104311943054\n"
          ]
        }
      ]
    },
    {
      "cell_type": "code",
      "source": [
        "# visualize model with dropout reg\n",
        "def visualize_model(model):\n",
        "    G = nx.DiGraph()\n",
        "    node_labels = {}\n",
        "    for i, layer in enumerate(model.layers):\n",
        "        layer_name = f'{layer.name}\\n{layer.output_shape}'\n",
        "        node_labels[i] = layer_name\n",
        "        G.add_node(layer_name)\n",
        "        if i > 0:\n",
        "            G.add_edge(node_labels[i - 1], layer_name)\n",
        "\n",
        "    pos = nx.spring_layout(G, seed=42)\n",
        "    plt.figure(figsize=(10, 6))\n",
        "    nx.draw(G, pos, with_labels=True, node_size=2000, node_color='skyblue', font_size=10, font_weight='bold')\n",
        "    plt.title(\"Neural Network Model Architecture (Model_reg)\")\n",
        "    plt.savefig('model_reg_visualization.png', format='png', dpi=300, bbox_inches='tight')\n",
        "    plt.show()\n",
        "\n",
        "# call function to visualize\n",
        "visualize_model(model_reg)"
      ],
      "metadata": {
        "colab": {
          "base_uri": "https://localhost:8080/",
          "height": 659
        },
        "id": "zsKG4E5XMPZm",
        "outputId": "f436b7bd-54de-4e4e-ac76-480d4216431b"
      },
      "execution_count": 110,
      "outputs": [
        {
          "output_type": "display_data",
          "data": {
            "text/plain": [
              "<Figure size 1000x600 with 1 Axes>"
            ],
            "image/png": "[encoded data removed]"
          },
          "metadata": {}
        }
      ]
    },
    {
      "cell_type": "markdown",
      "source": [
        "# Summary"
      ],
      "metadata": {
        "id": "HaPH1ZdoNhMK"
      }
    },
    {
      "cell_type": "code",
      "source": [
        "# model eval values\n",
        "eval_results = {\n",
        "    'Model': ['Model_nolay', 'Model_lay', 'Model_red', 'Model_reg'],\n",
        "    'Test Loss': [loss_nolay, loss_lay, loss_red, loss_reg],\n",
        "    'Test Accuracy': [accuracy_nolay, accuracy_lay, accuracy_red, accuracy_reg]\n",
        "}\n",
        "\n",
        "# create DataFrame for eval results\n",
        "eval_df = pd.DataFrame(eval_results)\n",
        "\n",
        "# Display the table\n",
        "print(eval_df)\n"
      ],
      "metadata": {
        "colab": {
          "base_uri": "https://localhost:8080/"
        },
        "id": "r8J0R2Z2Nj_Z",
        "outputId": "a10c0cc1-52ac-41d5-f38b-d018835165e1"
      },
      "execution_count": 111,
      "outputs": [
        {
          "output_type": "stream",
          "name": "stdout",
          "text": [
            "         Model  Test Loss  Test Accuracy\n",
            "0  Model_nolay   0.036893        0.99211\n",
            "1    Model_lay   0.025023        0.99211\n",
            "2    Model_red   0.036252        0.99211\n",
            "3    Model_reg   0.056291        0.99211\n"
          ]
        }
      ]
    },
    {
      "cell_type": "code",
      "source": [
        "# The 'loss' value in the context of neural network training represents the value of the loss function during the training process.\n",
        "# The loss function measures how well the model's predictions match the actual target values (ground truth) during training.\n",
        "# The objective of training a neural network is to minimize this loss function.\n",
        "\n",
        "# used cross-entropy."
      ],
      "metadata": {
        "id": "dyNkCgeEQRVj"
      },
      "execution_count": 112,
      "outputs": []
    }
  ],
  "metadata": {
    "colab": {
      "provenance": [],
      "include_colab_link": true
    },
    "kernelspec": {
      "display_name": "Python 3 (ipykernel)",
      "language": "python",
      "name": "python3"
    },
    "language_info": {
      "codemirror_mode": {
        "name": "ipython",
        "version": 3
      },
      "file_extension": ".py",
      "mimetype": "text/x-python",
      "name": "python",
      "nbconvert_exporter": "python",
      "pygments_lexer": "ipython3",
      "version": "3.11.4"
    }
  },
  "nbformat": 4,
  "nbformat_minor": 0
}